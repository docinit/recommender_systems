{
 "cells": [
  {
   "cell_type": "markdown",
   "metadata": {},
   "source": [
    "# Курсовой проект\n",
    "## Двухуровневая рекомендательная система"
   ]
  },
  {
   "cell_type": "markdown",
   "metadata": {},
   "source": [
    "Код для src, utils, metrics вы можете скачать из [этого](https://github.com/geangohn/recsys-tutorial) github репозитория"
   ]
  },
  {
   "cell_type": "code",
   "execution_count": 1,
   "metadata": {},
   "outputs": [],
   "source": [
    "import pandas as pd\n",
    "import numpy as np\n",
    "import matplotlib.pyplot as plt\n",
    "%matplotlib inline\n",
    "\n",
    "# Для работы с матрицами\n",
    "from scipy.sparse import csr_matrix\n",
    "\n",
    "# Матричная факторизация\n",
    "from implicit import als\n",
    "\n",
    "# Модель второго уровня\n",
    "from lightgbm import LGBMClassifier\n",
    "\n",
    "# стандартизация\n",
    "from sklearn.preprocessing import StandardScaler\n",
    "\n",
    "import os, sys\n",
    "module_path = os.path.abspath(os.path.join(os.pardir))\n",
    "if module_path not in sys.path:\n",
    "    sys.path.append(module_path)\n",
    "\n",
    "# Написанные нами функции\n",
    "from src.metrics import precision_at_k as pk, recall_at_k as rk\n",
    "from src.utils import prefilter_items\n",
    "from src.recommenders import MainRecommender"
   ]
  },
  {
   "cell_type": "markdown",
   "metadata": {},
   "source": [
    "- **Чтение данных**\n",
    "- **Создание 4 выборок**:\n",
    "    - для выбора 50 лучших кандидатов\n",
    "    - для оценка качества выборки\n",
    "    - для выбора рекомендованных товаров\n",
    "    - для проверки качества рекомендаций"
   ]
  },
  {
   "cell_type": "code",
   "execution_count": 2,
   "metadata": {},
   "outputs": [
    {
     "data": {
      "text/html": [
       "<div>\n",
       "<style scoped>\n",
       "    .dataframe tbody tr th:only-of-type {\n",
       "        vertical-align: middle;\n",
       "    }\n",
       "\n",
       "    .dataframe tbody tr th {\n",
       "        vertical-align: top;\n",
       "    }\n",
       "\n",
       "    .dataframe thead th {\n",
       "        text-align: right;\n",
       "    }\n",
       "</style>\n",
       "<table border=\"1\" class=\"dataframe\">\n",
       "  <thead>\n",
       "    <tr style=\"text-align: right;\">\n",
       "      <th></th>\n",
       "      <th>user_id</th>\n",
       "      <th>basket_id</th>\n",
       "      <th>day</th>\n",
       "      <th>item_id</th>\n",
       "      <th>quantity</th>\n",
       "      <th>sales_value</th>\n",
       "      <th>store_id</th>\n",
       "      <th>retail_disc</th>\n",
       "      <th>trans_time</th>\n",
       "      <th>week_no</th>\n",
       "      <th>coupon_disc</th>\n",
       "      <th>coupon_match_disc</th>\n",
       "    </tr>\n",
       "  </thead>\n",
       "  <tbody>\n",
       "    <tr>\n",
       "      <th>0</th>\n",
       "      <td>2375</td>\n",
       "      <td>26984851472</td>\n",
       "      <td>1</td>\n",
       "      <td>1004906</td>\n",
       "      <td>1</td>\n",
       "      <td>1.39</td>\n",
       "      <td>364</td>\n",
       "      <td>-0.6</td>\n",
       "      <td>1631</td>\n",
       "      <td>1</td>\n",
       "      <td>0.0</td>\n",
       "      <td>0.0</td>\n",
       "    </tr>\n",
       "    <tr>\n",
       "      <th>1</th>\n",
       "      <td>2375</td>\n",
       "      <td>26984851472</td>\n",
       "      <td>1</td>\n",
       "      <td>1033142</td>\n",
       "      <td>1</td>\n",
       "      <td>0.82</td>\n",
       "      <td>364</td>\n",
       "      <td>0.0</td>\n",
       "      <td>1631</td>\n",
       "      <td>1</td>\n",
       "      <td>0.0</td>\n",
       "      <td>0.0</td>\n",
       "    </tr>\n",
       "  </tbody>\n",
       "</table>\n",
       "</div>"
      ],
      "text/plain": [
       "   user_id    basket_id  day  item_id  quantity  sales_value  store_id  \\\n",
       "0     2375  26984851472    1  1004906         1         1.39       364   \n",
       "1     2375  26984851472    1  1033142         1         0.82       364   \n",
       "\n",
       "   retail_disc  trans_time  week_no  coupon_disc  coupon_match_disc  \n",
       "0         -0.6        1631        1          0.0                0.0  \n",
       "1          0.0        1631        1          0.0                0.0  "
      ]
     },
     "execution_count": 2,
     "metadata": {},
     "output_type": "execute_result"
    }
   ],
   "source": [
    "# читаем данные\n",
    "data = pd.read_csv('retail_train.csv')\n",
    "# информация о продуктах\n",
    "item_features = pd.read_csv('product.csv')\n",
    "# информация о пользователях\n",
    "user_features = pd.read_csv('hh_demographic.csv')\n",
    "\n",
    "# column processing - преобразование названий колонок; в данном случае ничего не изменяется\n",
    "item_features.columns = [col.lower() for col in item_features.columns]\n",
    "user_features.columns = [col.lower() for col in user_features.columns]\n",
    "# изменение названий колонок\n",
    "item_features.rename(columns={'product_id': 'item_id'}, inplace=True)\n",
    "user_features.rename(columns={'household_key': 'user_id'}, inplace=True)\n",
    "\n",
    "# выбор количества недель между временем окончания наполнения данными БД и двумя частями (1 - для первой части, т.е. для отбора товаров-кандидатов; 2 - для второй, т.е. для выбора лучших кандидатов)\n",
    "val_lvl_1_size_weeks = 6\n",
    "val_lvl_2_size_weeks = 3\n",
    "# создание датафреймов: для изучения и отбора кандидатов - data_train_lvl_1\n",
    "# для проверки правильности (по recall и precision): data_val_lvl_1\n",
    "# для обучения модели, отбирающих лучших кандидатов: data_train_lvl_2\n",
    "# для проверки точности модели (по precision@k): data_val_lvl_2\n",
    "data_train_lvl_1 = data[data['week_no'] < data['week_no'].max() - (val_lvl_1_size_weeks + val_lvl_2_size_weeks)]\n",
    "data_val_lvl_1 = data[(data['week_no'] >= data['week_no'].max() - (val_lvl_1_size_weeks + val_lvl_2_size_weeks)) &\n",
    "                      (data['week_no'] < data['week_no'].max() - (val_lvl_2_size_weeks))]\n",
    "\n",
    "data_train_lvl_2 = data_val_lvl_1.copy()  # Для наглядности. Далее мы добавим изменения, и они будут отличаться\n",
    "data_val_lvl_2 = data[data['week_no'] >= data['week_no'].max() - val_lvl_2_size_weeks]\n",
    "\n",
    "data_train_lvl_1.head(2)"
   ]
  },
  {
   "cell_type": "markdown",
   "metadata": {},
   "source": [
    "**работа с первой выборкой: отсев \"очень часто\" и \"очень редко\" покупаемых товаров**"
   ]
  },
  {
   "cell_type": "code",
   "execution_count": 3,
   "metadata": {},
   "outputs": [
    {
     "name": "stdout",
     "output_type": "stream",
     "text": [
      "Decreased # items from 83685 to 5001\n"
     ]
    }
   ],
   "source": [
    "# для начала работы необходимо отсеять совсем очевидные (очень часто покупаемые) товары, которые и так часто покупают - их нет смысла рекомендовать;\n",
    "# также необходимо отсеять очень редко покупаемые товары, которые или просто не пользуются спросом (плохие) или сами по себе хорошие, но при этом очень специфичные:\n",
    "# их рекомендовать нет смысла, т.к. затраты на \"уговоры\" покупателей их купить будут дороже, чем в случае других, более \"хороших\" товаров-кандидатов\n",
    "# из оставшихся товаров берем 5000 самых популярных; из них и будем выбирать те, которые стоит порекомендовать каждому пользователю из последней выборки data_val_lvl_2\n",
    "\n",
    "# код ниже - проверка количества товаров до подобной фильтрации и после\n",
    "n_items_before = data_train_lvl_1['item_id'].nunique()\n",
    "data_train_lvl_1 = prefilter_items(data_train_lvl_1, item_features=item_features, take_n_popular=5000)\n",
    "n_items_after = data_train_lvl_1['item_id'].nunique()\n",
    "print('Decreased # items from {} to {}'.format(n_items_before, n_items_after))"
   ]
  },
  {
   "cell_type": "markdown",
   "metadata": {},
   "source": [
    "**добавление новых расчетных полей**:\n",
    "- цена товара - просто пересчет пересчет + заполнение нулями полей Nan или np.inf\n",
    "- квантиль номера недели (квантиль подбирался отдельно, по графикам распределения; для другой выборки нужно подбирать заново; поэтому просто сохранены эмпирические значения)\n",
    "- квантиль количества купленных товаров (аналогичный подход)\n",
    "- квантиль цены (квартили)\n",
    "- квантиль времени транзакции (квартили)\n",
    "- цена товара с учетом скидки"
   ]
  },
  {
   "cell_type": "code",
   "execution_count": 4,
   "metadata": {},
   "outputs": [],
   "source": [
    "data_train_lvl_1['price'] = data_train_lvl_1['sales_value'] / data_train_lvl_1['quantity']\n",
    "data_train_lvl_1['price'].fillna(0)\n",
    "data_train_lvl_1['price'] = data_train_lvl_1['price'].replace([np.inf, -np.inf], 0)\n",
    "data_train_lvl_1['price_disc'] = data_train_lvl_1['price']-data_train_lvl_1['retail_disc']*data_train_lvl_1['price']\n",
    "data_train_lvl_1['week_no_q'] = pd.cut(data_train_lvl_1.week_no,bins=data_train_lvl_1.week_no.quantile([0,0.25,0.5,0.75,1]).values,labels=[1,2,3,4]).fillna(1)\n",
    "data_train_lvl_1['price_q'] = pd.cut(data_train_lvl_1.price,bins=data_train_lvl_1.price.quantile([0,0.25,0.5,0.75,1]).values,labels=[1,2,3,4]).fillna(1)\n",
    "data_train_lvl_1['trans_time_q'] = pd.cut(data_train_lvl_1.trans_time,bins=data_train_lvl_1.trans_time.quantile([0,0.25,0.5,0.75,1]).values,labels=[1,2,3,4]).fillna(1)\n",
    "data_train_lvl_1['quantity_q'] = pd.cut(data_train_lvl_1['quantity'],bins = data_train_lvl_1['quantity'].quantile([0,0.8,0.9,0.985,1]),labels=[1,2,3,4])"
   ]
  },
  {
   "cell_type": "markdown",
   "metadata": {},
   "source": [
    "**проведение анализа по пользователям, купившим более N товаров**\n",
    "- данный подход не сработал, поэтому не применяется;\n",
    "- использованы различные N от 0 до 50.\n",
    "\n",
    "**проведение анализа по пользователям, купившим менее N товаров**\n",
    "- данный подход не сработал, поэтому не применяется;\n",
    "- использованы различные N от 150 до 1000."
   ]
  },
  {
   "cell_type": "raw",
   "metadata": {},
   "source": [
    "a = data_train_lvl_1.user_id.value_counts().reset_index()\n",
    "a = a[a.user_id>2]\n",
    "data_train_lvl_1 = data_train_lvl_1.loc[data_train_lvl_1.user_id.isin(a.index),:]\n",
    "# data_train_lvl_1['order_quantity']\n",
    "a.columns=['user_id','order_quantity']\n",
    "data_train_lvl_1 = data_train_lvl_1.merge(a,on='user_id',how='inner')"
   ]
  },
  {
   "cell_type": "markdown",
   "metadata": {},
   "source": [
    "**Через recommender можно обращаться к четырем методам рекомендации: als, own_recommender, similar_items и similar_users**"
   ]
  },
  {
   "cell_type": "code",
   "execution_count": 5,
   "metadata": {},
   "outputs": [
    {
     "name": "stderr",
     "output_type": "stream",
     "text": [
      "WARNING:root:OpenBLAS detected. Its highly recommend to set the environment variable 'export OPENBLAS_NUM_THREADS=1' to disable its internal multithreading\n"
     ]
    },
    {
     "data": {
      "application/vnd.jupyter.widget-view+json": {
       "model_id": "328e584aa97f48d7a3dad9932b5127c8",
       "version_major": 2,
       "version_minor": 0
      },
      "text/plain": [
       "  0%|          | 0/15 [00:00<?, ?it/s]"
      ]
     },
     "metadata": {},
     "output_type": "display_data"
    },
    {
     "data": {
      "application/vnd.jupyter.widget-view+json": {
       "model_id": "225a379196af4c2d93605a688d2f6048",
       "version_major": 2,
       "version_minor": 0
      },
      "text/plain": [
       "  0%|          | 0/5001 [00:00<?, ?it/s]"
      ]
     },
     "metadata": {},
     "output_type": "display_data"
    }
   ],
   "source": [
    "recommender = MainRecommender(data_train_lvl_1)"
   ]
  },
  {
   "cell_type": "markdown",
   "metadata": {},
   "source": [
    "### Задание 1\n",
    "\n",
    "A) Попробуйте различные варианты генерации кандидатов. Какие из них дают наибольший recall@k ?\n",
    "- Пока пробуем отобрать 50 кандидатов (k=50)\n",
    "- Качество измеряем на data_val_lvl_1: следующие 6 недель после трейна\n",
    "\n",
    "Дают ли own recommendtions + top-popular лучший recall?  \n",
    "\n",
    "B)* Как зависит recall@k от k? Постройте для одной схемы генерации кандидатов эту зависимость для k = {20, 50, 100, 200, 500}  \n",
    "C)* Исходя из прошлого вопроса, как вы думаете, какое значение k является наиболее разумным?\n"
   ]
  },
  {
   "cell_type": "code",
   "execution_count": 6,
   "metadata": {},
   "outputs": [
    {
     "data": {
      "text/html": [
       "<div>\n",
       "<style scoped>\n",
       "    .dataframe tbody tr th:only-of-type {\n",
       "        vertical-align: middle;\n",
       "    }\n",
       "\n",
       "    .dataframe tbody tr th {\n",
       "        vertical-align: top;\n",
       "    }\n",
       "\n",
       "    .dataframe thead th {\n",
       "        text-align: right;\n",
       "    }\n",
       "</style>\n",
       "<table border=\"1\" class=\"dataframe\">\n",
       "  <thead>\n",
       "    <tr style=\"text-align: right;\">\n",
       "      <th></th>\n",
       "      <th>user_id</th>\n",
       "      <th>actual</th>\n",
       "    </tr>\n",
       "  </thead>\n",
       "  <tbody>\n",
       "    <tr>\n",
       "      <th>0</th>\n",
       "      <td>1</td>\n",
       "      <td>[853529, 865456, 867607, 872137, 874905, 87524...</td>\n",
       "    </tr>\n",
       "    <tr>\n",
       "      <th>1</th>\n",
       "      <td>2</td>\n",
       "      <td>[15830248, 838136, 839656, 861272, 866211, 870...</td>\n",
       "    </tr>\n",
       "  </tbody>\n",
       "</table>\n",
       "</div>"
      ],
      "text/plain": [
       "   user_id                                             actual\n",
       "0        1  [853529, 865456, 867607, 872137, 874905, 87524...\n",
       "1        2  [15830248, 838136, 839656, 861272, 866211, 870..."
      ]
     },
     "execution_count": 6,
     "metadata": {},
     "output_type": "execute_result"
    }
   ],
   "source": [
    "# в этой части кода создается датафрейм с данными о купленных товарах по каждому пользователю\n",
    "result_lvl_1 = data_val_lvl_1.groupby('user_id')['item_id'].unique().reset_index()\n",
    "result_lvl_1.columns=['user_id', 'actual']\n",
    "result_lvl_1.head(2)"
   ]
  },
  {
   "cell_type": "markdown",
   "metadata": {},
   "source": [
    "**Для расчета метрик recall@k и precision@k будут использованы данные функции**"
   ]
  },
  {
   "cell_type": "code",
   "execution_count": 7,
   "metadata": {},
   "outputs": [],
   "source": [
    "# для получения оценки recall@k и precision@k используется средняя оценка recall и precision по всем пользователям (рассчитывается для каждого и берется среднее)\n",
    "def recall_at_k(recommended_list, bought_list, k=200):\n",
    "    recall = sum([sum(np.isin(list(set(i)), ii[:k])) / len(i) if len(i)<=len(ii) else sum(np.isin(ii[:k],list(set(i)))) / len(i) for i,ii in zip(bought_list,recommended_list)]) / len(bought_list)\n",
    "    return recall*100\n",
    "\n",
    "def precision_at_k(recommended_list, bought_list, k=200):\n",
    "    precision = sum([sum(np.isin(list(set(i)), ii[:k])) / k if len(i)<=len(ii) else sum(np.isin(ii[:k],list(set(i)))) / k for i,ii in zip(bought_list,recommended_list)]) / len(recommended_list)\n",
    "    return precision*100"
   ]
  },
  {
   "cell_type": "markdown",
   "metadata": {},
   "source": [
    "**1. Проверка качества ALS-рекомендаций**"
   ]
  },
  {
   "cell_type": "code",
   "execution_count": 8,
   "metadata": {},
   "outputs": [
    {
     "name": "stdout",
     "output_type": "stream",
     "text": [
      "recall = 10.884644592884465,precision = 2.8050239690269927\n"
     ]
    }
   ],
   "source": [
    "result_lvl_1['preds'] = ''\n",
    "N=244\n",
    "for user in set(result_lvl_1['user_id']):\n",
    "    x = []\n",
    "    if user in data_train_lvl_1.user_id.values:\n",
    "        x.append(recommender.get_als_recommendations(user,N=N))\n",
    "        result_lvl_1.loc[result_lvl_1['user_id']==user,'preds'] = result_lvl_1.loc[result_lvl_1['user_id']==user,'preds'].apply(lambda y: x[0])\n",
    "print(f'recall = {recall_at_k(result_lvl_1.loc[result_lvl_1.user_id.isin(data_train_lvl_1.user_id.values),\"preds\"].tolist(),result_lvl_1.loc[result_lvl_1.user_id.isin(data_train_lvl_1.user_id.values),\"actual\"].tolist(), k = N)},precision = {precision_at_k(result_lvl_1.loc[result_lvl_1.user_id.isin(data_train_lvl_1.user_id.values),\"preds\"].tolist(),result_lvl_1.loc[result_lvl_1.user_id.isin(data_train_lvl_1.user_id.values),\"actual\"].tolist(), k = N)}')"
   ]
  },
  {
   "cell_type": "markdown",
   "metadata": {},
   "source": [
    "**Сравнение оценок, полученных при использовании функций recall_at_k и precision_at_k с результатами функций из модуля src.metrics**"
   ]
  },
  {
   "cell_type": "code",
   "execution_count": 9,
   "metadata": {},
   "outputs": [
    {
     "name": "stdout",
     "output_type": "stream",
     "text": [
      "10.884644592884465 2.8050239690269927\n",
      "10.884644592884465 2.8050239690269927\n"
     ]
    }
   ],
   "source": [
    "# проверка соответствия результатов recall и precision встроенных функций presicion_at_k и recall_at_k и функций, разработанных автором\n",
    "from src.metrics import recall_at_k as rks\n",
    "from src.metrics import precision_at_k as pks\n",
    "a = result_lvl_1.loc[result_lvl_1.user_id.isin(data_train_lvl_1.user_id.values),\"preds\"].tolist()\n",
    "b = result_lvl_1.loc[result_lvl_1.user_id.isin(data_train_lvl_1.user_id.values),\"actual\"].tolist()\n",
    "score1 = 0\n",
    "for z in range(len(a)):\n",
    "    score1 += rks(a[z],b[z], k = N)\n",
    "score2 = 0\n",
    "for z in range(len(a)):\n",
    "    score2 += pks(a[z],b[z], k = N)\n",
    "print(score1/len(a)*100,score2/len(a)*100)\n",
    "print(recall_at_k(a,b,k=800),precision_at_k(a,b,k=N))"
   ]
  },
  {
   "cell_type": "markdown",
   "metadata": {},
   "source": [
    "**2. Проверка качества функции get_own_recommendations**"
   ]
  },
  {
   "cell_type": "code",
   "execution_count": 10,
   "metadata": {},
   "outputs": [
    {
     "name": "stdout",
     "output_type": "stream",
     "text": [
      "recall = 7.794779699358855,precision = 1.9316215866047926\n"
     ]
    }
   ],
   "source": [
    "result_lvl_1['preds'] = ''\n",
    "N=244\n",
    "for user in set(result_lvl_1['user_id']):\n",
    "    x = []\n",
    "    if user in data_train_lvl_1.user_id.values:\n",
    "        x.append(recommender.get_own_recommendations(user,N=N))\n",
    "        result_lvl_1.loc[result_lvl_1['user_id']==user,'preds'] = result_lvl_1.loc[result_lvl_1['user_id']==user,'preds'].apply(lambda y: x[0])\n",
    "print(f'recall = {recall_at_k(result_lvl_1.loc[result_lvl_1.user_id.isin(data_train_lvl_1.user_id.values),\"preds\"].tolist(),result_lvl_1.loc[result_lvl_1.user_id.isin(data_train_lvl_1.user_id.values),\"actual\"].tolist(), k = N)},precision = {precision_at_k(result_lvl_1.loc[result_lvl_1.user_id.isin(data_train_lvl_1.user_id.values),\"preds\"].tolist(),result_lvl_1.loc[result_lvl_1.user_id.isin(data_train_lvl_1.user_id.values),\"actual\"].tolist(), k = N)}')"
   ]
  },
  {
   "cell_type": "markdown",
   "metadata": {},
   "source": [
    "**3. Проверка качества рекомендаций функции get_similar_items_recommendation**"
   ]
  },
  {
   "cell_type": "code",
   "execution_count": 11,
   "metadata": {},
   "outputs": [
    {
     "name": "stdout",
     "output_type": "stream",
     "text": [
      "recall = 9.606239909856026,precision = 2.31611678898873\n"
     ]
    }
   ],
   "source": [
    "result_lvl_1['preds'] = ''\n",
    "N=244\n",
    "for user in set(result_lvl_1['user_id']):\n",
    "    x=[]\n",
    "    if user in data_train_lvl_1.user_id.values:\n",
    "        x.append(recommender.get_similar_items_recommendation(user,N=N))\n",
    "        result_lvl_1.loc[result_lvl_1['user_id']==user,'preds'] = result_lvl_1.loc[result_lvl_1['user_id']==user,'preds'].apply(lambda y: x[0])\n",
    "print(f'recall = {recall_at_k(result_lvl_1.loc[result_lvl_1.user_id.isin(data_train_lvl_1.user_id.values),\"preds\"].tolist(),result_lvl_1.loc[result_lvl_1.user_id.isin(data_train_lvl_1.user_id.values),\"actual\"].tolist(), k = N)},precision = {precision_at_k(result_lvl_1.loc[result_lvl_1.user_id.isin(data_train_lvl_1.user_id.values),\"preds\"].tolist(),result_lvl_1.loc[result_lvl_1.user_id.isin(data_train_lvl_1.user_id.values),\"actual\"].tolist(), k = N)}')"
   ]
  },
  {
   "cell_type": "markdown",
   "metadata": {},
   "source": [
    "**4. Проверка качества рекомендаций функции get_similar_users_recommendation**"
   ]
  },
  {
   "cell_type": "code",
   "execution_count": 12,
   "metadata": {},
   "outputs": [
    {
     "name": "stdout",
     "output_type": "stream",
     "text": [
      "recall = 3.662864896329416,precision = 1.036117398693713\n"
     ]
    }
   ],
   "source": [
    "result_lvl_1['preds'] = ''\n",
    "N=244\n",
    "for user in set(result_lvl_1['user_id']):\n",
    "    x = []\n",
    "    if user in data_train_lvl_1.user_id.values:\n",
    "        try:\n",
    "            x.append(recommender.get_similar_users_recommendation(user,N=N))\n",
    "        except Exception:\n",
    "            x.append(recommender.get_own_recommendations(user,N=N))\n",
    "        result_lvl_1.loc[result_lvl_1['user_id']==user,'preds'] = result_lvl_1.loc[result_lvl_1['user_id']==user,'preds'].apply(lambda y: x[0])\n",
    "print(f'recall = {recall_at_k(result_lvl_1.loc[result_lvl_1.user_id.isin(data_train_lvl_1.user_id.values),\"preds\"].tolist(),result_lvl_1.loc[result_lvl_1.user_id.isin(data_train_lvl_1.user_id.values),\"actual\"].tolist(), k = N)},precision = {precision_at_k(result_lvl_1.loc[result_lvl_1.user_id.isin(data_train_lvl_1.user_id.values),\"preds\"].tolist(),result_lvl_1.loc[result_lvl_1.user_id.isin(data_train_lvl_1.user_id.values),\"actual\"].tolist(), k = N)}')"
   ]
  },
  {
   "cell_type": "markdown",
   "metadata": {},
   "source": [
    "---"
   ]
  },
  {
   "cell_type": "markdown",
   "metadata": {},
   "source": [
    "**Проверка качества рекомендаций при совместном использовании top_popular и own_recommendations**\n",
    "- видно, что recall и precision увеличились"
   ]
  },
  {
   "cell_type": "code",
   "execution_count": 13,
   "metadata": {},
   "outputs": [
    {
     "name": "stdout",
     "output_type": "stream",
     "text": [
      "recall = 12.558139895347267,precision = 3.145125027627263\n"
     ]
    }
   ],
   "source": [
    "result_lvl_1['preds'] = ''\n",
    "N=244\n",
    "top_n = data_train_lvl_1.groupby('item_id').count()['quantity'].reset_index().sort_values('quantity',ascending=False)[1:].head(int(N*0.52))['item_id'].values\n",
    "for user in set(result_lvl_1['user_id']):\n",
    "    if user in data_train_lvl_1.user_id.values:\n",
    "        x = []\n",
    "        x.append(recommender.get_own_recommendations(user,N=int(N*0.48)))\n",
    "        x.append(top_n)\n",
    "        x = list(np.hstack(x))\n",
    "        result_lvl_1.loc[result_lvl_1['user_id']==user,'preds'] = result_lvl_1.loc[result_lvl_1['user_id']==user,'preds'].apply(lambda y: x)\n",
    "print(f'recall = {recall_at_k(result_lvl_1.loc[result_lvl_1.user_id.isin(data_train_lvl_1.user_id.values),\"preds\"].tolist(),result_lvl_1.loc[result_lvl_1.user_id.isin(data_train_lvl_1.user_id.values),\"actual\"].tolist(), k = N)},precision = {precision_at_k(result_lvl_1.loc[result_lvl_1.user_id.isin(data_train_lvl_1.user_id.values),\"preds\"].tolist(),result_lvl_1.loc[result_lvl_1.user_id.isin(data_train_lvl_1.user_id.values),\"actual\"].tolist(), k = N)}')"
   ]
  },
  {
   "cell_type": "code",
   "execution_count": 14,
   "metadata": {},
   "outputs": [
    {
     "name": "stdout",
     "output_type": "stream",
     "text": [
      "recall = 12.358160385180751,precision = 3.0872030546219493\n"
     ]
    }
   ],
   "source": [
    "result_lvl_1['preds'] = ''\n",
    "N=244\n",
    "top_n = data_train_lvl_1.groupby('item_id').count()['quantity'].reset_index().sort_values('quantity',ascending=False)[1:].head(int(N*0.52))['item_id'].values\n",
    "for user in set(result_lvl_1['user_id']):\n",
    "    if user in data_train_lvl_1.user_id.values:\n",
    "        x = []\n",
    "        x.append(recommender.get_als_recommendations(user,N=int(N*0.48)))\n",
    "        x.append(top_n)\n",
    "        x = list(np.hstack(x))\n",
    "        result_lvl_1.loc[result_lvl_1['user_id']==user,'preds'] = result_lvl_1.loc[result_lvl_1['user_id']==user,'preds'].apply(lambda y: x)\n",
    "print(f'recall = {recall_at_k(result_lvl_1.loc[result_lvl_1.user_id.isin(data_train_lvl_1.user_id.values),\"preds\"].tolist(),result_lvl_1.loc[result_lvl_1.user_id.isin(data_train_lvl_1.user_id.values),\"actual\"].tolist(), k = N)},precision = {precision_at_k(result_lvl_1.loc[result_lvl_1.user_id.isin(data_train_lvl_1.user_id.values),\"preds\"].tolist(),result_lvl_1.loc[result_lvl_1.user_id.isin(data_train_lvl_1.user_id.values),\"actual\"].tolist(), k = N)}')"
   ]
  },
  {
   "cell_type": "markdown",
   "metadata": {},
   "source": [
    "**судя по полученным выше результатам, комбинация own_recommendation и top_results лучше, чем als_recommendation и top_result**\n",
    "- %-соотношение подбиралось эмпирически"
   ]
  },
  {
   "cell_type": "markdown",
   "metadata": {},
   "source": [
    "---"
   ]
  },
  {
   "cell_type": "markdown",
   "metadata": {},
   "source": [
    "**Проверка качества рекомендаций при совместном использовании top_popular, als и own_recommendations**\n",
    "- видно, что recall увеличились еще больше, а precision - снизилась;\n",
    "- при этом количество рекомендаций в данном случае больше, чем в предыдущем коде; поэтому принято решение остановиться на этом варианте - и использовать его в дальнейшем."
   ]
  },
  {
   "cell_type": "code",
   "execution_count": 15,
   "metadata": {},
   "outputs": [
    {
     "name": "stdout",
     "output_type": "stream",
     "text": [
      "recall = 12.82237341890905,precision = 3.2192422891373482\n"
     ]
    }
   ],
   "source": [
    "result_lvl_1['preds'] = ''\n",
    "N_k=244\n",
    "top_N = data_train_lvl_1.groupby('item_id').count()['quantity'].reset_index().sort_values('quantity',ascending=False)[1:].head(int(N_k*0.5))['item_id'].values\n",
    "for user in set(result_lvl_1['user_id']):\n",
    "    if user in data_train_lvl_1.user_id.values:\n",
    "        x = []\n",
    "        x.append(recommender.get_own_recommendations(user,N=int(N_k*0.25)))\n",
    "        x.append(recommender.get_als_recommendations(user,N=int(N_k*0.25)))\n",
    "        x.append(top_N)\n",
    "        x = list(np.hstack(x))\n",
    "        result_lvl_1.loc[result_lvl_1['user_id']==user,'preds'] = result_lvl_1.loc[result_lvl_1['user_id']==user,'preds'].apply(lambda y: x)\n",
    "print(f'recall = {recall_at_k(result_lvl_1.loc[result_lvl_1.user_id.isin(data_train_lvl_1.user_id.values),\"preds\"].tolist(),result_lvl_1.loc[result_lvl_1.user_id.isin(data_train_lvl_1.user_id.values),\"actual\"].tolist(), k = N_k)},precision = {precision_at_k(result_lvl_1.loc[result_lvl_1.user_id.isin(data_train_lvl_1.user_id.values),\"preds\"].tolist(),result_lvl_1.loc[result_lvl_1.user_id.isin(data_train_lvl_1.user_id.values),\"actual\"].tolist(), k = N_k)}')"
   ]
  },
  {
   "cell_type": "markdown",
   "metadata": {},
   "source": [
    "**Судя по результатам, полученным выше результатам, лучшие решения получаются при совместном использовании get_own_recommendations и ALS.**\n",
    "- однако итоговые результаты были неудовлетворительны\n",
    "- поэтому выбран предыдущий лучший вариант: own_recommendation + top_popular"
   ]
  },
  {
   "cell_type": "code",
   "execution_count": 16,
   "metadata": {},
   "outputs": [
    {
     "name": "stdout",
     "output_type": "stream",
     "text": [
      "5\n",
      "[5, 1.9169807458183845, 16.83867968386768]\n",
      "10\n",
      "[10, 2.906922001702443, 13.575081357508084]\n",
      "20\n",
      "[20, 4.217384266672932, 10.778707577870811]\n",
      "50\n",
      "[50, 6.214683506525967, 6.908414690841506]\n",
      "100\n",
      "[100, 8.075885503371866, 4.661087866108817]\n",
      "200\n",
      "[200, 11.029387842409058, 3.34472338447235]\n",
      "300\n",
      "[300, 13.5240629633033, 2.7990082132341563]\n",
      "400\n",
      "[400, 14.971083647887037, 2.369827986982804]\n",
      "500\n",
      "[500, 16.046839494264596, 2.059600185960016]\n",
      "600\n",
      "[600, 17.240741872562797, 1.8601425693475866]\n",
      "700\n",
      "[700, 18.0000826586454, 1.6754333532576284]\n",
      "800\n",
      "[800, 18.781487518958308, 1.534983728498374]\n"
     ]
    }
   ],
   "source": [
    "# в зависимости от количества кандидатов будут получены разные результаты в виде списка товаров для каждого пользователя\n",
    "N_k = [5,10,20,50,100,200,300,400,500,600,700,800]\n",
    "# оценки будут сохранены в список и представлены в виде графика\n",
    "result_list = []\n",
    "# подобранные товары-кандидаты будут сохранены в отдельном столбце таблицы-датафрейма\n",
    "result_lvl_1['preds'] = ''\n",
    "for N in N_k:\n",
    "#     для отслеживания процесса работы кода выводится на печать кол-во кандидатов и (ниже) полученные оценки recall и precision\n",
    "    print(N)\n",
    "    top_N = data_train_lvl_1.groupby('item_id').count()['quantity'].reset_index().sort_values('quantity',ascending=False)[1:].head(int(N*0.52))['item_id'].values\n",
    "    for user in set(result_lvl_1['user_id']):\n",
    "        if user in data_train_lvl_1.user_id.values:\n",
    "            x = []\n",
    "            x.append(recommender.get_own_recommendations(user,N=int(N*0.48)))\n",
    "    #         x.append(recommender.get_als_recommendations(user,N=int(N_k*0.1)))\n",
    "            x.append(top_N)\n",
    "            x = list(np.hstack(x))\n",
    "            result_lvl_1.loc[result_lvl_1['user_id']==user,'preds'] = result_lvl_1.loc[result_lvl_1['user_id']==user,'preds'].apply(lambda y: x)\n",
    "    result_list.append([N,recall_at_k(result_lvl_1.loc[result_lvl_1.user_id.isin(data_train_lvl_1.user_id.values),\"preds\"].tolist(),result_lvl_1.loc[result_lvl_1.user_id.isin(data_train_lvl_1.user_id.values),\"actual\"].tolist(), k = N),precision_at_k(result_lvl_1.loc[result_lvl_1.user_id.isin(data_train_lvl_1.user_id.values),\"preds\"].tolist(),result_lvl_1.loc[result_lvl_1.user_id.isin(data_train_lvl_1.user_id.values),\"actual\"].tolist(), k = N)])\n",
    "#     вывод промежуточных результатов на печать\n",
    "    print(result_list[-1])"
   ]
  },
  {
   "cell_type": "markdown",
   "metadata": {},
   "source": [
    "**графическое представление получаемых результатов при различном количестве кандидатов**"
   ]
  },
  {
   "cell_type": "code",
   "execution_count": 17,
   "metadata": {},
   "outputs": [
    {
     "data": {
      "image/png": "[encoded data removed]",
      "text/plain": [
       "<Figure size 432x288 with 1 Axes>"
      ]
     },
     "metadata": {
      "needs_background": "light"
     },
     "output_type": "display_data"
    }
   ],
   "source": [
    "result_list = np.array(result_list)\n",
    "plt.plot(result_list[:,0],result_list[:,1],c='r', label = 'recall')\n",
    "plt.plot(result_list[:,0],result_list[:,2],c='b', label = 'precision')\n",
    "plt.title('Количество товаров-кандидатов для рекомендаций пользователю и recall-метрика')\n",
    "plt.xlabel('Количество товаров-кандидатов')\n",
    "plt.ylabel('recall / precision')\n",
    "plt.legend(loc=\"upper left\")\n",
    "plt.show()"
   ]
  },
  {
   "cell_type": "markdown",
   "metadata": {},
   "source": [
    "##### Выбор количества товаров-кандидатов для рекомендаций может быть основан на результатах выше проведенного подбора:\n",
    "- на участке от 0 до 100 recall и precision находятся почти на одном уровне; выше 100 recall почти монотонно увеличивается, а precision с меньшей скоростью, но тоже почти монотонно уменьшается.\n",
    "- Вначале был выбран вариант на уровне перекреста двух показателей: от 50 до 75 кандидатов; результаты были \"не очень\".\n",
    "- Далее производилась проверка соседних результатов: при увеличении кол-ва кандидатов показатель precision на последнем этапе (проверка целевой выборки) увеличивался;\n",
    "- Было выяснено, что максимальный результат получается при N = 250; поэтому были проверены самые близкие к этому варианту показатели - и выбрано N=244.\n",
    "- После этого продолжена оптимизация гиперпараметров алгоритма LightGDM.\n",
    "- в самом конце подобран параметр K в файле recommenders для функции fit_own_recommender: лучшим вариантом оказался K=12."
   ]
  },
  {
   "cell_type": "markdown",
   "metadata": {},
   "source": [
    "**повторное исполнение кода для сохранения кандидатов в датафрейм**"
   ]
  },
  {
   "cell_type": "code",
   "execution_count": 18,
   "metadata": {},
   "outputs": [
    {
     "name": "stdout",
     "output_type": "stream",
     "text": [
      "recall = 12.558139895347267,precision = 3.145125027627263\n"
     ]
    }
   ],
   "source": [
    "result_lvl_1['preds'] = ''\n",
    "N_k=244\n",
    "# 244\n",
    "top_N = data_train_lvl_1.groupby('item_id').count()['quantity'].reset_index().sort_values('quantity',ascending=False)[1:].head(int(N_k*0.52))['item_id'].values\n",
    "for user in set(result_lvl_1['user_id']):\n",
    "    if user in data_train_lvl_1.user_id.values:\n",
    "        x = []\n",
    "        x.append(recommender.get_own_recommendations(user,N=int(N_k*0.48)))\n",
    "#         x.append(recommender.get_als_recommendations(user,N=int(N_k*0.1)))\n",
    "        x.append(top_N)\n",
    "        x = list(np.hstack(x))\n",
    "        result_lvl_1.loc[result_lvl_1['user_id']==user,'preds'] = result_lvl_1.loc[result_lvl_1['user_id']==user,'preds'].apply(lambda y: x)\n",
    "print(f'recall = {recall_at_k(result_lvl_1.loc[result_lvl_1.user_id.isin(data_train_lvl_1.user_id.values),\"preds\"].tolist(),result_lvl_1.loc[result_lvl_1.user_id.isin(data_train_lvl_1.user_id.values),\"actual\"].tolist(), k = N_k)},precision = {precision_at_k(result_lvl_1.loc[result_lvl_1.user_id.isin(data_train_lvl_1.user_id.values),\"preds\"].tolist(),result_lvl_1.loc[result_lvl_1.user_id.isin(data_train_lvl_1.user_id.values),\"actual\"].tolist(), k = N_k)}')"
   ]
  },
  {
   "cell_type": "markdown",
   "metadata": {},
   "source": [
    "### Задание 2.\n",
    "\n",
    "#### Обучите модель 2-ого уровня, при этом:\n",
    "    - Добавьте минимум по 2 фичи для юзера, товара и пары юзер-товар\n",
    "    - Измерьте отдельно precision@5 модели 1-ого уровня и двухуровневой модели на data_val_lvl_2\n",
    "    - Вырос ли precision@5 при использовании двухуровневой модели?"
   ]
  },
  {
   "cell_type": "markdown",
   "metadata": {},
   "source": [
    "---"
   ]
  },
  {
   "cell_type": "markdown",
   "metadata": {},
   "source": [
    "### Кроме добавления новых фичей вначале произведено преобразование имеющихся данных:\n",
    "- обработано поле **curr_size_of_product**: получены данные о мере измерения товара (литры, штука, унции, граммы и т.д.), которые могут, например, отражать удобство для покупателя (литр кока-колы в карман положить сложнее, чем 100 грамм мыла); кроме этого, некоторые вещи (например, лекарства даже с одинаковым названием) могут продаваться в разном аггрегатном состоянии; возможно, это имеет значение для принятия решения о покупке;\n",
    "- из того же поля получены данные о количестве приобретенного товара;\n",
    "- данные о доходах\n",
    "- данные о возрасте\n",
    "- созданы новые параметры, также как и на первом этапе: цена с учетом скидок, группа по отношениям к квантилям для цены, количествам покупок, номеру недели и времени транзакции;\n",
    "- создан параметр \"количество покупок\" в каждой категории (department): sum_q_dep\n",
    "- большинство из созданных параметров не нашли применения в модели LightGDM; лучшими же, нашедшими применение в этом алгоритме, оказались:\n",
    "    - количество покупок в категориях (sum_q_dep),\n",
    "    - квантиль-группа по времени транзакции (trans_time_q),\n",
    "    - цена с учетом скидок (price_disc).\n",
    "\n",
    "\n",
    "**По заданию:**\n",
    "   - о товаре созданы 2 фичи: количество (ранг) и меры измерения;\n",
    "   - о пользователе созданы фичи: возраст (ранг) и уровень дохода (ранг), цена приобретения с учетом скидки, количестов приобретенных товаров в каждой категории, отношение к различным квантиль-категориям по цене покупки, количеству покупок, номеру недели и времени транзакции; также пререаботано отношение к различным категориям по уровню дохода, средняя стоимость покупок (mean_sales_value).\n",
    "   - фичи по парам групп параметров, характеризиующих пользователя и товар: цена товара с учетом скидки, количество продаж * цену товара с учетом дохода пользователя (sales_quantity_income), цена покупки товара с учетом дохода пользователя (sale_income)"
   ]
  },
  {
   "cell_type": "code",
   "execution_count": 19,
   "metadata": {},
   "outputs": [
    {
     "data": {
      "text/html": [
       "<div>\n",
       "<style scoped>\n",
       "    .dataframe tbody tr th:only-of-type {\n",
       "        vertical-align: middle;\n",
       "    }\n",
       "\n",
       "    .dataframe tbody tr th {\n",
       "        vertical-align: top;\n",
       "    }\n",
       "\n",
       "    .dataframe thead th {\n",
       "        text-align: right;\n",
       "    }\n",
       "</style>\n",
       "<table border=\"1\" class=\"dataframe\">\n",
       "  <thead>\n",
       "    <tr style=\"text-align: right;\">\n",
       "      <th></th>\n",
       "      <th>user_id</th>\n",
       "      <th>item_id</th>\n",
       "    </tr>\n",
       "  </thead>\n",
       "  <tbody>\n",
       "    <tr>\n",
       "      <th>0</th>\n",
       "      <td>2070</td>\n",
       "      <td>1105426</td>\n",
       "    </tr>\n",
       "    <tr>\n",
       "      <th>0</th>\n",
       "      <td>2070</td>\n",
       "      <td>1097350</td>\n",
       "    </tr>\n",
       "    <tr>\n",
       "      <th>0</th>\n",
       "      <td>2070</td>\n",
       "      <td>882826</td>\n",
       "    </tr>\n",
       "    <tr>\n",
       "      <th>0</th>\n",
       "      <td>2070</td>\n",
       "      <td>950202</td>\n",
       "    </tr>\n",
       "    <tr>\n",
       "      <th>0</th>\n",
       "      <td>2070</td>\n",
       "      <td>878715</td>\n",
       "    </tr>\n",
       "  </tbody>\n",
       "</table>\n",
       "</div>"
      ],
      "text/plain": [
       "   user_id  item_id\n",
       "0     2070  1105426\n",
       "0     2070  1097350\n",
       "0     2070   882826\n",
       "0     2070   950202\n",
       "0     2070   878715"
      ]
     },
     "execution_count": 19,
     "metadata": {},
     "output_type": "execute_result"
    }
   ],
   "source": [
    "# создается список пользователей из реальных данных о покупках, использованных ранее для проверки релевантности списка товаров-кандидатов\n",
    "users_lvl_2 = pd.DataFrame(data_train_lvl_2['user_id'].unique())\n",
    "users_lvl_2.columns = ['user_id']\n",
    "# такой же список создается из данных, использованных ранее для создания списков товаров-кандидатов\n",
    "train_users = data_train_lvl_1['user_id'].unique()\n",
    "# тут добиваемся того, чтобы сохранились только те пользователи, которых были в data_train_lvl_1, т.е. попали в train_users\n",
    "users_lvl_2 = users_lvl_2[users_lvl_2['user_id'].isin(train_users)]\n",
    "# подготавливаем столбец в датафрейме для списка товаров-кандидатов для имеющегося списка пользователей\n",
    "candidates_list = []\n",
    "for i in users_lvl_2['user_id']:\n",
    "#     в итоге: можем сохранить этот список (индивидуальный для каждого пользователя) в только что созданный столбец\n",
    "    x = result_lvl_1.loc[result_lvl_1['user_id']==i,'preds'].values[0]\n",
    "    candidates_list.append(x)\n",
    "users_lvl_2['candidates']  = candidates_list\n",
    "\n",
    "# для дальнейшей работы нужно \"раскрыть\" списки для каждого пользователя\n",
    "# т.к. ранее была выбрана тактика выбрать 50 товаров-кандидатов для каждого пользователя, то в датафрейме получится 50 строк для каждого пользователя\n",
    "df = users_lvl_2.explode('candidates').explode('candidates')\n",
    "# переименуем столбцы для того, чтобы потом работать с другими датафреймами\n",
    "df.columns = ['user_id','item_id']\n",
    "df.head()"
   ]
  },
  {
   "cell_type": "code",
   "execution_count": 20,
   "metadata": {},
   "outputs": [
    {
     "data": {
      "text/plain": [
       "0.04683193516360752"
      ]
     },
     "execution_count": 20,
     "metadata": {},
     "output_type": "execute_result"
    }
   ],
   "source": [
    "# итак, раз у нас уже есть реальный список купленных товаров, то мы можем создать из него датафрейм для того,\n",
    "# чтобы в соседнем столбце для каждого товара указать, что он куплен\n",
    "targets_lvl_2 = data_train_lvl_2[['user_id', 'item_id']].copy()\n",
    "targets_lvl_2['target'] = 1\n",
    "# теперь список купленных товаров можно объединить со списком рекомендованных товаров\n",
    "# те товары, которые совпали с уже купленными, окажутся в той же самой строке и получат признак \"куплен\" (т.е. рекомендация была верной)\n",
    "targets_lvl_2 = df.merge(targets_lvl_2, on=['user_id', 'item_id'], how='left')\n",
    "# если же товар не нашел себе \"пару\" в датафрейме с информацией о реально купленных товарах, то в столбце, информирующем о совершенной покупке будет проставлен \"ноль\"\n",
    "targets_lvl_2['target'].fillna(0, inplace= True)\n",
    "# targets_lvl_2[targets_lvl_2['target']==0]\n",
    "\n",
    "# укажем долю угаданных купленных товаров: в общем-то, не так много; надо с этим что-то делать!\n",
    "targets_lvl_2['target'].mean()"
   ]
  },
  {
   "cell_type": "code",
   "execution_count": 21,
   "metadata": {},
   "outputs": [],
   "source": [
    "# пришло время объединить всю имеющуюся информацию в один датафрейм: объединим информацию о покупках с информацией о самих товарах и пользователях\n",
    "targets_lvl_2 = targets_lvl_2.merge(item_features, on='item_id', how='left')\n",
    "targets_lvl_2 = targets_lvl_2.merge(user_features, on='user_id', how='left')\n",
    "\n",
    "# targets_lvl_2.head(2).T"
   ]
  },
  {
   "cell_type": "markdown",
   "metadata": {},
   "source": [
    "**из имеющихся данных, подобно первому этапу работы, создадим дополнительные расчетные поля**\n",
    "##### описание - в начале раздела"
   ]
  },
  {
   "cell_type": "code",
   "execution_count": 22,
   "metadata": {},
   "outputs": [
    {
     "data": {
      "text/html": [
       "<div>\n",
       "<style scoped>\n",
       "    .dataframe tbody tr th:only-of-type {\n",
       "        vertical-align: middle;\n",
       "    }\n",
       "\n",
       "    .dataframe tbody tr th {\n",
       "        vertical-align: top;\n",
       "    }\n",
       "\n",
       "    .dataframe thead th {\n",
       "        text-align: right;\n",
       "    }\n",
       "</style>\n",
       "<table border=\"1\" class=\"dataframe\">\n",
       "  <thead>\n",
       "    <tr style=\"text-align: right;\">\n",
       "      <th></th>\n",
       "      <th>0</th>\n",
       "      <th>1</th>\n",
       "      <th>2</th>\n",
       "      <th>3</th>\n",
       "      <th>4</th>\n",
       "    </tr>\n",
       "  </thead>\n",
       "  <tbody>\n",
       "    <tr>\n",
       "      <th>user_id</th>\n",
       "      <td>2070</td>\n",
       "      <td>2070</td>\n",
       "      <td>2070</td>\n",
       "      <td>2070</td>\n",
       "      <td>2070</td>\n",
       "    </tr>\n",
       "    <tr>\n",
       "      <th>item_id</th>\n",
       "      <td>1105426</td>\n",
       "      <td>1097350</td>\n",
       "      <td>882826</td>\n",
       "      <td>950202</td>\n",
       "      <td>878715</td>\n",
       "    </tr>\n",
       "    <tr>\n",
       "      <th>target</th>\n",
       "      <td>0.0</td>\n",
       "      <td>0.0</td>\n",
       "      <td>0.0</td>\n",
       "      <td>0.0</td>\n",
       "      <td>0.0</td>\n",
       "    </tr>\n",
       "    <tr>\n",
       "      <th>manufacturer</th>\n",
       "      <td>69</td>\n",
       "      <td>2468</td>\n",
       "      <td>69</td>\n",
       "      <td>69</td>\n",
       "      <td>697</td>\n",
       "    </tr>\n",
       "    <tr>\n",
       "      <th>department</th>\n",
       "      <td>DELI</td>\n",
       "      <td>GROCERY</td>\n",
       "      <td>DELI</td>\n",
       "      <td>DELI</td>\n",
       "      <td>GROCERY</td>\n",
       "    </tr>\n",
       "    <tr>\n",
       "      <th>brand</th>\n",
       "      <td>Private</td>\n",
       "      <td>National</td>\n",
       "      <td>Private</td>\n",
       "      <td>Private</td>\n",
       "      <td>National</td>\n",
       "    </tr>\n",
       "    <tr>\n",
       "      <th>commodity_desc</th>\n",
       "      <td>SANDWICHES</td>\n",
       "      <td>DOMESTIC WINE</td>\n",
       "      <td>SANDWICHES</td>\n",
       "      <td>SANDWICHES</td>\n",
       "      <td>BEERS/ALES</td>\n",
       "    </tr>\n",
       "    <tr>\n",
       "      <th>sub_commodity_desc</th>\n",
       "      <td>SANDWICHES - (COLD)</td>\n",
       "      <td>VALUE GLASS WINE</td>\n",
       "      <td>SANDWICHES - (COLD)</td>\n",
       "      <td>SANDWICHES - (COLD)</td>\n",
       "      <td>BEERALEMALT LIQUORS</td>\n",
       "    </tr>\n",
       "    <tr>\n",
       "      <th>curr_size_of_product</th>\n",
       "      <td></td>\n",
       "      <td>4 LTR</td>\n",
       "      <td></td>\n",
       "      <td></td>\n",
       "      <td>12 OZ</td>\n",
       "    </tr>\n",
       "    <tr>\n",
       "      <th>age_desc</th>\n",
       "      <td>45-54</td>\n",
       "      <td>45-54</td>\n",
       "      <td>45-54</td>\n",
       "      <td>45-54</td>\n",
       "      <td>45-54</td>\n",
       "    </tr>\n",
       "    <tr>\n",
       "      <th>marital_status_code</th>\n",
       "      <td>U</td>\n",
       "      <td>U</td>\n",
       "      <td>U</td>\n",
       "      <td>U</td>\n",
       "      <td>U</td>\n",
       "    </tr>\n",
       "    <tr>\n",
       "      <th>income_desc</th>\n",
       "      <td>50-74K</td>\n",
       "      <td>50-74K</td>\n",
       "      <td>50-74K</td>\n",
       "      <td>50-74K</td>\n",
       "      <td>50-74K</td>\n",
       "    </tr>\n",
       "    <tr>\n",
       "      <th>homeowner_desc</th>\n",
       "      <td>Unknown</td>\n",
       "      <td>Unknown</td>\n",
       "      <td>Unknown</td>\n",
       "      <td>Unknown</td>\n",
       "      <td>Unknown</td>\n",
       "    </tr>\n",
       "    <tr>\n",
       "      <th>hh_comp_desc</th>\n",
       "      <td>Unknown</td>\n",
       "      <td>Unknown</td>\n",
       "      <td>Unknown</td>\n",
       "      <td>Unknown</td>\n",
       "      <td>Unknown</td>\n",
       "    </tr>\n",
       "    <tr>\n",
       "      <th>household_size_desc</th>\n",
       "      <td>1</td>\n",
       "      <td>1</td>\n",
       "      <td>1</td>\n",
       "      <td>1</td>\n",
       "      <td>1</td>\n",
       "    </tr>\n",
       "    <tr>\n",
       "      <th>kid_category_desc</th>\n",
       "      <td>None/Unknown</td>\n",
       "      <td>None/Unknown</td>\n",
       "      <td>None/Unknown</td>\n",
       "      <td>None/Unknown</td>\n",
       "      <td>None/Unknown</td>\n",
       "    </tr>\n",
       "    <tr>\n",
       "      <th>basket_id</th>\n",
       "      <td>NaN</td>\n",
       "      <td>NaN</td>\n",
       "      <td>NaN</td>\n",
       "      <td>NaN</td>\n",
       "      <td>NaN</td>\n",
       "    </tr>\n",
       "    <tr>\n",
       "      <th>day</th>\n",
       "      <td>NaN</td>\n",
       "      <td>NaN</td>\n",
       "      <td>NaN</td>\n",
       "      <td>NaN</td>\n",
       "      <td>NaN</td>\n",
       "    </tr>\n",
       "    <tr>\n",
       "      <th>quantity</th>\n",
       "      <td>NaN</td>\n",
       "      <td>NaN</td>\n",
       "      <td>NaN</td>\n",
       "      <td>NaN</td>\n",
       "      <td>NaN</td>\n",
       "    </tr>\n",
       "    <tr>\n",
       "      <th>sales_value</th>\n",
       "      <td>NaN</td>\n",
       "      <td>NaN</td>\n",
       "      <td>NaN</td>\n",
       "      <td>NaN</td>\n",
       "      <td>NaN</td>\n",
       "    </tr>\n",
       "    <tr>\n",
       "      <th>store_id</th>\n",
       "      <td>NaN</td>\n",
       "      <td>NaN</td>\n",
       "      <td>NaN</td>\n",
       "      <td>NaN</td>\n",
       "      <td>NaN</td>\n",
       "    </tr>\n",
       "    <tr>\n",
       "      <th>retail_disc</th>\n",
       "      <td>NaN</td>\n",
       "      <td>NaN</td>\n",
       "      <td>NaN</td>\n",
       "      <td>NaN</td>\n",
       "      <td>NaN</td>\n",
       "    </tr>\n",
       "    <tr>\n",
       "      <th>trans_time</th>\n",
       "      <td>NaN</td>\n",
       "      <td>NaN</td>\n",
       "      <td>NaN</td>\n",
       "      <td>NaN</td>\n",
       "      <td>NaN</td>\n",
       "    </tr>\n",
       "    <tr>\n",
       "      <th>week_no</th>\n",
       "      <td>NaN</td>\n",
       "      <td>NaN</td>\n",
       "      <td>NaN</td>\n",
       "      <td>NaN</td>\n",
       "      <td>NaN</td>\n",
       "    </tr>\n",
       "    <tr>\n",
       "      <th>coupon_disc</th>\n",
       "      <td>NaN</td>\n",
       "      <td>NaN</td>\n",
       "      <td>NaN</td>\n",
       "      <td>NaN</td>\n",
       "      <td>NaN</td>\n",
       "    </tr>\n",
       "    <tr>\n",
       "      <th>coupon_match_disc</th>\n",
       "      <td>NaN</td>\n",
       "      <td>NaN</td>\n",
       "      <td>NaN</td>\n",
       "      <td>NaN</td>\n",
       "      <td>NaN</td>\n",
       "    </tr>\n",
       "    <tr>\n",
       "      <th>price</th>\n",
       "      <td>NaN</td>\n",
       "      <td>NaN</td>\n",
       "      <td>NaN</td>\n",
       "      <td>NaN</td>\n",
       "      <td>NaN</td>\n",
       "    </tr>\n",
       "    <tr>\n",
       "      <th>quantity_q</th>\n",
       "      <td>NaN</td>\n",
       "      <td>NaN</td>\n",
       "      <td>NaN</td>\n",
       "      <td>NaN</td>\n",
       "      <td>NaN</td>\n",
       "    </tr>\n",
       "    <tr>\n",
       "      <th>week_no_q</th>\n",
       "      <td>NaN</td>\n",
       "      <td>NaN</td>\n",
       "      <td>NaN</td>\n",
       "      <td>NaN</td>\n",
       "      <td>NaN</td>\n",
       "    </tr>\n",
       "    <tr>\n",
       "      <th>price_q</th>\n",
       "      <td>NaN</td>\n",
       "      <td>NaN</td>\n",
       "      <td>NaN</td>\n",
       "      <td>NaN</td>\n",
       "      <td>NaN</td>\n",
       "    </tr>\n",
       "    <tr>\n",
       "      <th>trans_time_q</th>\n",
       "      <td>NaN</td>\n",
       "      <td>NaN</td>\n",
       "      <td>NaN</td>\n",
       "      <td>NaN</td>\n",
       "      <td>NaN</td>\n",
       "    </tr>\n",
       "    <tr>\n",
       "      <th>price_disc</th>\n",
       "      <td>NaN</td>\n",
       "      <td>NaN</td>\n",
       "      <td>NaN</td>\n",
       "      <td>NaN</td>\n",
       "      <td>NaN</td>\n",
       "    </tr>\n",
       "  </tbody>\n",
       "</table>\n",
       "</div>"
      ],
      "text/plain": [
       "                                        0                 1  \\\n",
       "user_id                              2070              2070   \n",
       "item_id                           1105426           1097350   \n",
       "target                                0.0               0.0   \n",
       "manufacturer                           69              2468   \n",
       "department                           DELI           GROCERY   \n",
       "brand                             Private          National   \n",
       "commodity_desc                 SANDWICHES     DOMESTIC WINE   \n",
       "sub_commodity_desc    SANDWICHES - (COLD)  VALUE GLASS WINE   \n",
       "curr_size_of_product                                  4 LTR   \n",
       "age_desc                            45-54             45-54   \n",
       "marital_status_code                     U                 U   \n",
       "income_desc                        50-74K            50-74K   \n",
       "homeowner_desc                    Unknown           Unknown   \n",
       "hh_comp_desc                      Unknown           Unknown   \n",
       "household_size_desc                     1                 1   \n",
       "kid_category_desc            None/Unknown      None/Unknown   \n",
       "basket_id                             NaN               NaN   \n",
       "day                                   NaN               NaN   \n",
       "quantity                              NaN               NaN   \n",
       "sales_value                           NaN               NaN   \n",
       "store_id                              NaN               NaN   \n",
       "retail_disc                           NaN               NaN   \n",
       "trans_time                            NaN               NaN   \n",
       "week_no                               NaN               NaN   \n",
       "coupon_disc                           NaN               NaN   \n",
       "coupon_match_disc                     NaN               NaN   \n",
       "price                                 NaN               NaN   \n",
       "quantity_q                            NaN               NaN   \n",
       "week_no_q                             NaN               NaN   \n",
       "price_q                               NaN               NaN   \n",
       "trans_time_q                          NaN               NaN   \n",
       "price_disc                            NaN               NaN   \n",
       "\n",
       "                                        2                    3  \\\n",
       "user_id                              2070                 2070   \n",
       "item_id                            882826               950202   \n",
       "target                                0.0                  0.0   \n",
       "manufacturer                           69                   69   \n",
       "department                           DELI                 DELI   \n",
       "brand                             Private              Private   \n",
       "commodity_desc                 SANDWICHES           SANDWICHES   \n",
       "sub_commodity_desc    SANDWICHES - (COLD)  SANDWICHES - (COLD)   \n",
       "curr_size_of_product                                             \n",
       "age_desc                            45-54                45-54   \n",
       "marital_status_code                     U                    U   \n",
       "income_desc                        50-74K               50-74K   \n",
       "homeowner_desc                    Unknown              Unknown   \n",
       "hh_comp_desc                      Unknown              Unknown   \n",
       "household_size_desc                     1                    1   \n",
       "kid_category_desc            None/Unknown         None/Unknown   \n",
       "basket_id                             NaN                  NaN   \n",
       "day                                   NaN                  NaN   \n",
       "quantity                              NaN                  NaN   \n",
       "sales_value                           NaN                  NaN   \n",
       "store_id                              NaN                  NaN   \n",
       "retail_disc                           NaN                  NaN   \n",
       "trans_time                            NaN                  NaN   \n",
       "week_no                               NaN                  NaN   \n",
       "coupon_disc                           NaN                  NaN   \n",
       "coupon_match_disc                     NaN                  NaN   \n",
       "price                                 NaN                  NaN   \n",
       "quantity_q                            NaN                  NaN   \n",
       "week_no_q                             NaN                  NaN   \n",
       "price_q                               NaN                  NaN   \n",
       "trans_time_q                          NaN                  NaN   \n",
       "price_disc                            NaN                  NaN   \n",
       "\n",
       "                                        4  \n",
       "user_id                              2070  \n",
       "item_id                            878715  \n",
       "target                                0.0  \n",
       "manufacturer                          697  \n",
       "department                        GROCERY  \n",
       "brand                            National  \n",
       "commodity_desc                 BEERS/ALES  \n",
       "sub_commodity_desc    BEERALEMALT LIQUORS  \n",
       "curr_size_of_product                12 OZ  \n",
       "age_desc                            45-54  \n",
       "marital_status_code                     U  \n",
       "income_desc                        50-74K  \n",
       "homeowner_desc                    Unknown  \n",
       "hh_comp_desc                      Unknown  \n",
       "household_size_desc                     1  \n",
       "kid_category_desc            None/Unknown  \n",
       "basket_id                             NaN  \n",
       "day                                   NaN  \n",
       "quantity                              NaN  \n",
       "sales_value                           NaN  \n",
       "store_id                              NaN  \n",
       "retail_disc                           NaN  \n",
       "trans_time                            NaN  \n",
       "week_no                               NaN  \n",
       "coupon_disc                           NaN  \n",
       "coupon_match_disc                     NaN  \n",
       "price                                 NaN  \n",
       "quantity_q                            NaN  \n",
       "week_no_q                             NaN  \n",
       "price_q                               NaN  \n",
       "trans_time_q                          NaN  \n",
       "price_disc                            NaN  "
      ]
     },
     "execution_count": 22,
     "metadata": {},
     "output_type": "execute_result"
    }
   ],
   "source": [
    "data_train_lvl_2['price'] = data_train_lvl_2['sales_value'] / data_train_lvl_2['quantity']\n",
    "data_train_lvl_2['price'].fillna(0)\n",
    "data_train_lvl_2['price'] = data_train_lvl_2['price'].replace([np.inf, -np.inf], 0)\n",
    "data_train_lvl_2['quantity_q'] = pd.cut(data_train_lvl_2['quantity'],bins = data_train_lvl_2['quantity'].quantile([0,0.7,0.9,0.985,1]),labels=[1,2,3,4])\n",
    "data_train_lvl_2['week_no_q'] = pd.cut(data_train_lvl_2.week_no,bins=data_train_lvl_1.week_no.quantile([0,0.25,0.5,0.75,1]).values,labels=[1,2,3,4]).fillna(1)\n",
    "data_train_lvl_2['price_q'] = pd.cut(data_train_lvl_2.price,bins=data_train_lvl_1.price.quantile([0,0.25,0.5,0.75,1]).values,labels=[1,2,3,4]).fillna(1)\n",
    "data_train_lvl_2['trans_time_q'] = pd.cut(data_train_lvl_2.trans_time,bins=data_train_lvl_1.trans_time.quantile([0,0.25,0.5,0.75,1]).values,labels=[1,2,3,4]).fillna(1)\n",
    "data_train_lvl_2['price_disc'] = data_train_lvl_2['price']-data_train_lvl_2['retail_disc']*data_train_lvl_2['price']\n",
    "\n",
    "targets_lvl_2 = targets_lvl_2.merge(data_train_lvl_2, on=['user_id', 'item_id'], how='left', copy=False)\n",
    "targets_lvl_2.head().T"
   ]
  },
  {
   "cell_type": "markdown",
   "metadata": {},
   "source": [
    "**обращает внимание на себя обилие незаполненных значений для более, чем половины параметров**"
   ]
  },
  {
   "cell_type": "code",
   "execution_count": 23,
   "metadata": {},
   "outputs": [
    {
     "data": {
      "text/html": [
       "<div>\n",
       "<style scoped>\n",
       "    .dataframe tbody tr th:only-of-type {\n",
       "        vertical-align: middle;\n",
       "    }\n",
       "\n",
       "    .dataframe tbody tr th {\n",
       "        vertical-align: top;\n",
       "    }\n",
       "\n",
       "    .dataframe thead th {\n",
       "        text-align: right;\n",
       "    }\n",
       "</style>\n",
       "<table border=\"1\" class=\"dataframe\">\n",
       "  <thead>\n",
       "    <tr style=\"text-align: right;\">\n",
       "      <th></th>\n",
       "      <th>user_id</th>\n",
       "      <th>item_id</th>\n",
       "      <th>target</th>\n",
       "      <th>manufacturer</th>\n",
       "      <th>department</th>\n",
       "      <th>brand</th>\n",
       "      <th>commodity_desc</th>\n",
       "      <th>sub_commodity_desc</th>\n",
       "      <th>curr_size_of_product</th>\n",
       "      <th>age_desc</th>\n",
       "      <th>...</th>\n",
       "      <th>week_no</th>\n",
       "      <th>coupon_disc</th>\n",
       "      <th>coupon_match_disc</th>\n",
       "      <th>price</th>\n",
       "      <th>quantity_q</th>\n",
       "      <th>week_no_q</th>\n",
       "      <th>price_q</th>\n",
       "      <th>trans_time_q</th>\n",
       "      <th>price_disc</th>\n",
       "      <th>quantity_ML_mean</th>\n",
       "    </tr>\n",
       "  </thead>\n",
       "  <tbody>\n",
       "    <tr>\n",
       "      <th>0</th>\n",
       "      <td>2070</td>\n",
       "      <td>1105426</td>\n",
       "      <td>0.0</td>\n",
       "      <td>69</td>\n",
       "      <td>DELI</td>\n",
       "      <td>Private</td>\n",
       "      <td>SANDWICHES</td>\n",
       "      <td>SANDWICHES - (COLD)</td>\n",
       "      <td></td>\n",
       "      <td>45-54</td>\n",
       "      <td>...</td>\n",
       "      <td>88.439064</td>\n",
       "      <td>0.0</td>\n",
       "      <td>0.0</td>\n",
       "      <td>3.291949</td>\n",
       "      <td>NaN</td>\n",
       "      <td>4</td>\n",
       "      <td>1</td>\n",
       "      <td>4</td>\n",
       "      <td>NaN</td>\n",
       "      <td>0.0</td>\n",
       "    </tr>\n",
       "    <tr>\n",
       "      <th>1</th>\n",
       "      <td>2070</td>\n",
       "      <td>1097350</td>\n",
       "      <td>0.0</td>\n",
       "      <td>2468</td>\n",
       "      <td>GROCERY</td>\n",
       "      <td>National</td>\n",
       "      <td>DOMESTIC WINE</td>\n",
       "      <td>VALUE GLASS WINE</td>\n",
       "      <td>4 LTR</td>\n",
       "      <td>45-54</td>\n",
       "      <td>...</td>\n",
       "      <td>88.439064</td>\n",
       "      <td>0.0</td>\n",
       "      <td>0.0</td>\n",
       "      <td>3.291949</td>\n",
       "      <td>NaN</td>\n",
       "      <td>4</td>\n",
       "      <td>1</td>\n",
       "      <td>4</td>\n",
       "      <td>NaN</td>\n",
       "      <td>0.0</td>\n",
       "    </tr>\n",
       "    <tr>\n",
       "      <th>2</th>\n",
       "      <td>2070</td>\n",
       "      <td>882826</td>\n",
       "      <td>0.0</td>\n",
       "      <td>69</td>\n",
       "      <td>DELI</td>\n",
       "      <td>Private</td>\n",
       "      <td>SANDWICHES</td>\n",
       "      <td>SANDWICHES - (COLD)</td>\n",
       "      <td></td>\n",
       "      <td>45-54</td>\n",
       "      <td>...</td>\n",
       "      <td>88.439064</td>\n",
       "      <td>0.0</td>\n",
       "      <td>0.0</td>\n",
       "      <td>3.291949</td>\n",
       "      <td>NaN</td>\n",
       "      <td>4</td>\n",
       "      <td>1</td>\n",
       "      <td>4</td>\n",
       "      <td>NaN</td>\n",
       "      <td>0.0</td>\n",
       "    </tr>\n",
       "    <tr>\n",
       "      <th>3</th>\n",
       "      <td>2070</td>\n",
       "      <td>950202</td>\n",
       "      <td>0.0</td>\n",
       "      <td>69</td>\n",
       "      <td>DELI</td>\n",
       "      <td>Private</td>\n",
       "      <td>SANDWICHES</td>\n",
       "      <td>SANDWICHES - (COLD)</td>\n",
       "      <td></td>\n",
       "      <td>45-54</td>\n",
       "      <td>...</td>\n",
       "      <td>88.439064</td>\n",
       "      <td>0.0</td>\n",
       "      <td>0.0</td>\n",
       "      <td>3.291949</td>\n",
       "      <td>NaN</td>\n",
       "      <td>4</td>\n",
       "      <td>1</td>\n",
       "      <td>4</td>\n",
       "      <td>NaN</td>\n",
       "      <td>0.0</td>\n",
       "    </tr>\n",
       "    <tr>\n",
       "      <th>4</th>\n",
       "      <td>2070</td>\n",
       "      <td>878715</td>\n",
       "      <td>0.0</td>\n",
       "      <td>697</td>\n",
       "      <td>GROCERY</td>\n",
       "      <td>National</td>\n",
       "      <td>BEERS/ALES</td>\n",
       "      <td>BEERALEMALT LIQUORS</td>\n",
       "      <td>12 OZ</td>\n",
       "      <td>45-54</td>\n",
       "      <td>...</td>\n",
       "      <td>88.439064</td>\n",
       "      <td>0.0</td>\n",
       "      <td>0.0</td>\n",
       "      <td>3.291949</td>\n",
       "      <td>NaN</td>\n",
       "      <td>4</td>\n",
       "      <td>1</td>\n",
       "      <td>4</td>\n",
       "      <td>NaN</td>\n",
       "      <td>0.0</td>\n",
       "    </tr>\n",
       "  </tbody>\n",
       "</table>\n",
       "<p>5 rows × 33 columns</p>\n",
       "</div>"
      ],
      "text/plain": [
       "   user_id  item_id  target  manufacturer department     brand commodity_desc  \\\n",
       "0     2070  1105426     0.0            69       DELI   Private     SANDWICHES   \n",
       "1     2070  1097350     0.0          2468    GROCERY  National  DOMESTIC WINE   \n",
       "2     2070   882826     0.0            69       DELI   Private     SANDWICHES   \n",
       "3     2070   950202     0.0            69       DELI   Private     SANDWICHES   \n",
       "4     2070   878715     0.0           697    GROCERY  National     BEERS/ALES   \n",
       "\n",
       "    sub_commodity_desc curr_size_of_product age_desc  ...    week_no  \\\n",
       "0  SANDWICHES - (COLD)                         45-54  ...  88.439064   \n",
       "1     VALUE GLASS WINE                4 LTR    45-54  ...  88.439064   \n",
       "2  SANDWICHES - (COLD)                         45-54  ...  88.439064   \n",
       "3  SANDWICHES - (COLD)                         45-54  ...  88.439064   \n",
       "4  BEERALEMALT LIQUORS                12 OZ    45-54  ...  88.439064   \n",
       "\n",
       "  coupon_disc coupon_match_disc     price quantity_q week_no_q  price_q  \\\n",
       "0         0.0               0.0  3.291949        NaN         4        1   \n",
       "1         0.0               0.0  3.291949        NaN         4        1   \n",
       "2         0.0               0.0  3.291949        NaN         4        1   \n",
       "3         0.0               0.0  3.291949        NaN         4        1   \n",
       "4         0.0               0.0  3.291949        NaN         4        1   \n",
       "\n",
       "   trans_time_q  price_disc  quantity_ML_mean  \n",
       "0             4         NaN               0.0  \n",
       "1             4         NaN               0.0  \n",
       "2             4         NaN               0.0  \n",
       "3             4         NaN               0.0  \n",
       "4             4         NaN               0.0  \n",
       "\n",
       "[5 rows x 33 columns]"
      ]
     },
     "execution_count": 23,
     "metadata": {},
     "output_type": "execute_result"
    }
   ],
   "source": [
    "# работа с отсутствующими данными; в некоторых случаях логика подсказывает,\n",
    "# что было бы неплохо взять среднее или наиболее часто встречающееся значение,\n",
    "# но эксперименты показали,что во многих случаях лучше подставить \"ноль\"\n",
    "targets_lvl_2['day'].fillna(0,inplace=True)\n",
    "targets_lvl_2['quantity'].fillna(0,inplace=True)\n",
    "targets_lvl_2['retail_disc'].fillna(0,inplace=True)\n",
    "targets_lvl_2['sales_value'].fillna(0,inplace=True)\n",
    "targets_lvl_2['coupon_disc'].fillna(0,inplace=True)\n",
    "targets_lvl_2['coupon_match_disc'].fillna(0,inplace=True)\n",
    "targets_lvl_2['marital_status_code'].fillna(0,inplace=True)\n",
    "targets_lvl_2['kid_category_desc'].fillna(0,inplace=True)\n",
    "targets_lvl_2['trans_time'].fillna(0,inplace=True)\n",
    "targets_lvl_2['week_no_q'].fillna(4,inplace=True)\n",
    "targets_lvl_2['price_q'].fillna(1,inplace=True)\n",
    "targets_lvl_2['trans_time_q'].fillna(4,inplace=True)\n",
    "targets_lvl_2['week_no'].fillna(targets_lvl_2['week_no'].mean(),inplace=True)\n",
    "# для остальных полей используем средние показатели для кждой группы marital_status_code/household_size_desc:\n",
    "# очевидно, что структура расходов и объем покупок зависит от размера семьи\n",
    "a = targets_lvl_2.groupby('marital_status_code')['trans_time'].mean()\n",
    "for k,i in enumerate(a):\n",
    "    targets_lvl_2.loc[(targets_lvl_2['trans_time'].isna()) & (targets_lvl_2['marital_status_code']==a.index[k]),'trans_time'] = i\n",
    "\n",
    "a = targets_lvl_2.groupby('marital_status_code')['price'].mean()\n",
    "for k,i in enumerate(a):\n",
    "    targets_lvl_2.loc[(targets_lvl_2['price'].isna()) & (targets_lvl_2['marital_status_code']==a.index[k]),'price'] = i\n",
    "\n",
    "a = targets_lvl_2.groupby('household_size_desc')['price'].mean()\n",
    "for k,i in enumerate(a):\n",
    "    targets_lvl_2.loc[(targets_lvl_2['price'].isna()) & (targets_lvl_2['household_size_desc']==a.index[k]),'price'] = i\n",
    "\n",
    "a = targets_lvl_2.groupby('household_size_desc')['coupon_match_disc'].mean()\n",
    "for k,i in enumerate(a):\n",
    "    targets_lvl_2.loc[(targets_lvl_2['coupon_match_disc'].isna()) & (targets_lvl_2['household_size_desc']==a.index[k]),'coupon_match_disc'] = i\n",
    "    \n",
    "\n",
    "a = targets_lvl_2.groupby(['marital_status_code','kid_category_desc'],as_index=False)['quantity'].mean()\n",
    "targets_lvl_2['quantity_ML_mean']=0\n",
    "for k,i in enumerate(a):\n",
    "    targets_lvl_2.loc[(targets_lvl_2['marital_status_code']==a.marital_status_code[k]) & (targets_lvl_2['kid_category_desc']==a.kid_category_desc[k]),'quantity_ML_mean'] = a.quantity[k]\n",
    "\n",
    "\n",
    "targets_lvl_2.head()"
   ]
  },
  {
   "cell_type": "markdown",
   "metadata": {},
   "source": [
    "**Создание тренировочной части датафрейма**:\n",
    "- X_train будет содержать информацию о товарах и пользователях,\n",
    "- y_train - метки о том, куплен был товар или нет (1 и 0)."
   ]
  },
  {
   "cell_type": "code",
   "execution_count": 24,
   "metadata": {},
   "outputs": [],
   "source": [
    "X_train = targets_lvl_2.drop('target', axis=1)\n",
    "y_train = targets_lvl_2['target']"
   ]
  },
  {
   "cell_type": "code",
   "execution_count": 25,
   "metadata": {},
   "outputs": [
    {
     "data": {
      "text/html": [
       "<div>\n",
       "<style scoped>\n",
       "    .dataframe tbody tr th:only-of-type {\n",
       "        vertical-align: middle;\n",
       "    }\n",
       "\n",
       "    .dataframe tbody tr th {\n",
       "        vertical-align: top;\n",
       "    }\n",
       "\n",
       "    .dataframe thead th {\n",
       "        text-align: right;\n",
       "    }\n",
       "</style>\n",
       "<table border=\"1\" class=\"dataframe\">\n",
       "  <thead>\n",
       "    <tr style=\"text-align: right;\">\n",
       "      <th></th>\n",
       "      <th>user_id</th>\n",
       "      <th>item_id</th>\n",
       "      <th>manufacturer</th>\n",
       "      <th>department</th>\n",
       "      <th>brand</th>\n",
       "      <th>commodity_desc</th>\n",
       "      <th>sub_commodity_desc</th>\n",
       "      <th>curr_size_of_product</th>\n",
       "      <th>age_desc</th>\n",
       "      <th>marital_status_code</th>\n",
       "      <th>...</th>\n",
       "      <th>price</th>\n",
       "      <th>quantity_q</th>\n",
       "      <th>week_no_q</th>\n",
       "      <th>price_q</th>\n",
       "      <th>trans_time_q</th>\n",
       "      <th>price_disc</th>\n",
       "      <th>quantity_ML_mean</th>\n",
       "      <th>sum_q_dep</th>\n",
       "      <th>mean_sales_value</th>\n",
       "      <th>retail_disc_q</th>\n",
       "    </tr>\n",
       "  </thead>\n",
       "  <tbody>\n",
       "    <tr>\n",
       "      <th>0</th>\n",
       "      <td>2070</td>\n",
       "      <td>1105426</td>\n",
       "      <td>69</td>\n",
       "      <td>DELI</td>\n",
       "      <td>Private</td>\n",
       "      <td>SANDWICHES</td>\n",
       "      <td>SANDWICHES - (COLD)</td>\n",
       "      <td></td>\n",
       "      <td>45-54</td>\n",
       "      <td>U</td>\n",
       "      <td>...</td>\n",
       "      <td>3.291949</td>\n",
       "      <td>NaN</td>\n",
       "      <td>4</td>\n",
       "      <td>1</td>\n",
       "      <td>4</td>\n",
       "      <td>NaN</td>\n",
       "      <td>0.0</td>\n",
       "      <td>25.0</td>\n",
       "      <td>252.0</td>\n",
       "      <td>4</td>\n",
       "    </tr>\n",
       "    <tr>\n",
       "      <th>1</th>\n",
       "      <td>2070</td>\n",
       "      <td>1097350</td>\n",
       "      <td>2468</td>\n",
       "      <td>GROCERY</td>\n",
       "      <td>National</td>\n",
       "      <td>DOMESTIC WINE</td>\n",
       "      <td>VALUE GLASS WINE</td>\n",
       "      <td>4 LTR</td>\n",
       "      <td>45-54</td>\n",
       "      <td>U</td>\n",
       "      <td>...</td>\n",
       "      <td>3.291949</td>\n",
       "      <td>NaN</td>\n",
       "      <td>4</td>\n",
       "      <td>1</td>\n",
       "      <td>4</td>\n",
       "      <td>NaN</td>\n",
       "      <td>0.0</td>\n",
       "      <td>18.0</td>\n",
       "      <td>38.0</td>\n",
       "      <td>4</td>\n",
       "    </tr>\n",
       "    <tr>\n",
       "      <th>2</th>\n",
       "      <td>2070</td>\n",
       "      <td>882826</td>\n",
       "      <td>69</td>\n",
       "      <td>DELI</td>\n",
       "      <td>Private</td>\n",
       "      <td>SANDWICHES</td>\n",
       "      <td>SANDWICHES - (COLD)</td>\n",
       "      <td></td>\n",
       "      <td>45-54</td>\n",
       "      <td>U</td>\n",
       "      <td>...</td>\n",
       "      <td>3.291949</td>\n",
       "      <td>NaN</td>\n",
       "      <td>4</td>\n",
       "      <td>1</td>\n",
       "      <td>4</td>\n",
       "      <td>NaN</td>\n",
       "      <td>0.0</td>\n",
       "      <td>153.0</td>\n",
       "      <td>208.0</td>\n",
       "      <td>4</td>\n",
       "    </tr>\n",
       "    <tr>\n",
       "      <th>3</th>\n",
       "      <td>2070</td>\n",
       "      <td>950202</td>\n",
       "      <td>69</td>\n",
       "      <td>DELI</td>\n",
       "      <td>Private</td>\n",
       "      <td>SANDWICHES</td>\n",
       "      <td>SANDWICHES - (COLD)</td>\n",
       "      <td></td>\n",
       "      <td>45-54</td>\n",
       "      <td>U</td>\n",
       "      <td>...</td>\n",
       "      <td>3.291949</td>\n",
       "      <td>NaN</td>\n",
       "      <td>4</td>\n",
       "      <td>1</td>\n",
       "      <td>4</td>\n",
       "      <td>NaN</td>\n",
       "      <td>0.0</td>\n",
       "      <td>25.0</td>\n",
       "      <td>35.0</td>\n",
       "      <td>4</td>\n",
       "    </tr>\n",
       "    <tr>\n",
       "      <th>4</th>\n",
       "      <td>2070</td>\n",
       "      <td>878715</td>\n",
       "      <td>697</td>\n",
       "      <td>GROCERY</td>\n",
       "      <td>National</td>\n",
       "      <td>BEERS/ALES</td>\n",
       "      <td>BEERALEMALT LIQUORS</td>\n",
       "      <td>12 OZ</td>\n",
       "      <td>45-54</td>\n",
       "      <td>U</td>\n",
       "      <td>...</td>\n",
       "      <td>3.291949</td>\n",
       "      <td>NaN</td>\n",
       "      <td>4</td>\n",
       "      <td>1</td>\n",
       "      <td>4</td>\n",
       "      <td>NaN</td>\n",
       "      <td>0.0</td>\n",
       "      <td>27.0</td>\n",
       "      <td>199.0</td>\n",
       "      <td>4</td>\n",
       "    </tr>\n",
       "  </tbody>\n",
       "</table>\n",
       "<p>5 rows × 35 columns</p>\n",
       "</div>"
      ],
      "text/plain": [
       "   user_id  item_id  manufacturer department     brand commodity_desc  \\\n",
       "0     2070  1105426            69       DELI   Private     SANDWICHES   \n",
       "1     2070  1097350          2468    GROCERY  National  DOMESTIC WINE   \n",
       "2     2070   882826            69       DELI   Private     SANDWICHES   \n",
       "3     2070   950202            69       DELI   Private     SANDWICHES   \n",
       "4     2070   878715           697    GROCERY  National     BEERS/ALES   \n",
       "\n",
       "    sub_commodity_desc curr_size_of_product age_desc marital_status_code  ...  \\\n",
       "0  SANDWICHES - (COLD)                         45-54                   U  ...   \n",
       "1     VALUE GLASS WINE                4 LTR    45-54                   U  ...   \n",
       "2  SANDWICHES - (COLD)                         45-54                   U  ...   \n",
       "3  SANDWICHES - (COLD)                         45-54                   U  ...   \n",
       "4  BEERALEMALT LIQUORS                12 OZ    45-54                   U  ...   \n",
       "\n",
       "      price quantity_q week_no_q price_q trans_time_q  price_disc  \\\n",
       "0  3.291949        NaN         4       1            4         NaN   \n",
       "1  3.291949        NaN         4       1            4         NaN   \n",
       "2  3.291949        NaN         4       1            4         NaN   \n",
       "3  3.291949        NaN         4       1            4         NaN   \n",
       "4  3.291949        NaN         4       1            4         NaN   \n",
       "\n",
       "   quantity_ML_mean  sum_q_dep  mean_sales_value  retail_disc_q  \n",
       "0               0.0       25.0             252.0              4  \n",
       "1               0.0       18.0              38.0              4  \n",
       "2               0.0      153.0             208.0              4  \n",
       "3               0.0       25.0              35.0              4  \n",
       "4               0.0       27.0             199.0              4  \n",
       "\n",
       "[5 rows x 35 columns]"
      ]
     },
     "execution_count": 25,
     "metadata": {},
     "output_type": "execute_result"
    }
   ],
   "source": [
    "# после создания X_train, работы с отсутствующими данными -\n",
    "# продолжение работы с данными: создание новых полей\n",
    "X_train['sum_q_dep'] = X_train.groupby(['user_id','department'])['quantity'].count().reset_index()['quantity']\n",
    "# добавление нового поля **mean_sales_value**\n",
    "X_train['mean_sales_value'] = X_train.groupby(['user_id','brand'])['sales_value'].count().reset_index()['sales_value']\n",
    "X_train['mean_sales_value'].fillna(0,inplace=True)\n",
    "X_train['sum_q_dep'].fillna(0,inplace=True)\n",
    "X_train['retail_disc_q'] = pd.cut(X_train['retail_disc'],X_train['retail_disc'].quantile([0,0.005,0.01,0.015,1]),labels=[1,2,3,4])\n",
    "X_train.head()"
   ]
  },
  {
   "cell_type": "markdown",
   "metadata": {},
   "source": [
    "**Обработка категориальных данных**"
   ]
  },
  {
   "cell_type": "code",
   "execution_count": 26,
   "metadata": {},
   "outputs": [
    {
     "name": "stdout",
     "output_type": "stream",
     "text": [
      "CPU times: user 6.95 s, sys: 0 ns, total: 6.95 s\n",
      "Wall time: 6.96 s\n"
     ]
    }
   ],
   "source": [
    "%%time\n",
    "X_train['item_measure'] = ''\n",
    "X_train['curr_size_of_product'] = X_train['curr_size_of_product'].astype('str')\n",
    "check_list = [['Weight','LB','CTN','CT','LOAD','LBS','BAG','LD'],['Length','GA','FT'],\n",
    "              ['Volume','ML','GALLON','GAL','OZ','QT','PK','PINT','LTR','LITRE'],['square','SQ FT','SQFT'],\n",
    "              ['items','COUNT','DOZEN','DZ','OUNCE','PT','CUBE','STEM','SHEETS','BTL','CAN','LNNR','PACK','KIT','ROLLS']]\n",
    "for i in check_list:\n",
    "    for ii in i:\n",
    "        X_train.loc[X_train['curr_size_of_product'].str.contains(ii),'item_measure'] = i[0]\n",
    "\n",
    "# X_train['item_measure'].value_counts()"
   ]
  },
  {
   "cell_type": "markdown",
   "metadata": {},
   "source": [
    "- **В ячейке выше выполнена попытка разбить товары по мерам измерения (объем, масса, количество штук, площадь)**\n",
    "- **В ячейке ниже - попытаемся получить данные о количестве товара в упаковке или партии при покупке.**"
   ]
  },
  {
   "cell_type": "code",
   "execution_count": 27,
   "metadata": {},
   "outputs": [
    {
     "name": "stdout",
     "output_type": "stream",
     "text": [
      "CPU times: user 880 ms, sys: 47.5 ms, total: 927 ms\n",
      "Wall time: 2.87 s\n"
     ]
    }
   ],
   "source": [
    "%%time\n",
    "X_train['curr_size_of_product'].to_csv('curr_size_of_product.csv')\n",
    "# следующая команда d pyhton выполняется очень долго, поэтому ниже приведен код для командной строки для использования потокового редактора sed\n",
    "#X_train['curr_size_of_product'] = [X_train.loc[X_train['item_measure']==i,'curr_size_of_product'].values[0].split(i)[0] if len(i)>0 else 1 for i in X_train.loc[:,'item_measure']]\n",
    "\n",
    "# код для командной строки - выполняется за несколько секунд; предварительно создайте пустой файл curr_size_of_product1.csv, доступный для записи\n",
    "!sed 's/\\([0-9]*\\),\\([0-9,.\\ ]*\\)\\([\\ ]*\\)\\([\\,]*[\\ ]*[a-z]*[A-Z]*[0-9]*\\)/\\1,\\2/' curr_size_of_product.csv > curr_size_of_product1.csv\n",
    "# в результате в файле curr_size_of_product1.csv сохранен числа, соответствующие кол-ву товара в единицах,\n",
    "# которые мы сохранили в столбце item_measure\n",
    "# правда, с некоторыми ошибками;\n",
    "\n",
    "# теперь заменим значения столбца полу-очищенными данными (\"полу-очищенными\", т.к. там хватает ошибок, но они уже не помешают);\n",
    "X_train['curr_size_of_product'] = pd.read_csv('curr_size_of_product1.csv')['_size_of_product']\n",
    "# есть ошибки обработки, но тут важен только порядок числа; в ячейках с ошибками, как правило, порядок чисел = 10^1 или меньше;\n",
    "# X_train['curr_size_of_product'].value_counts()[:20]"
   ]
  },
  {
   "cell_type": "code",
   "execution_count": 28,
   "metadata": {},
   "outputs": [
    {
     "name": "stdout",
     "output_type": "stream",
     "text": [
      "CPU times: user 937 ms, sys: 30.5 ms, total: 967 ms\n",
      "Wall time: 970 ms\n"
     ]
    }
   ],
   "source": [
    "%%time\n",
    "# при анализе обнаружилось, что снова появились отсутствующие данные!\n",
    "# замена пустых значений в столбце item_measure и curr_size_of_product\n",
    "# если мера измерения не указана (или была потеряна в процессе обработки данных), попытаемся использовать \"item\" (т.е. \"количество штук\")\n",
    "X_train.loc[X_train['item_measure']=='','item_measure'] = 'item'\n",
    "# если количество продаваемого товара не указано (или было потеряно при обработке данных), предположим, что продают по 1 единице\n",
    "X_train.loc[X_train['curr_size_of_product']=='','curr_size_of_product'] = 1\n",
    "# остальные значения заполним \"рангами\" способом: данные условно разобьем на \"до 10\", \"от 10 до 100\" и т.п. и заменим реальные значения данной оценкой в виде порядковых номеров\n",
    "replace_list = []\n",
    "for i in X_train['curr_size_of_product']:\n",
    "    try:\n",
    "        if int(i)<=10:\n",
    "            replace_list.append(1)\n",
    "        elif int(i)<=100:\n",
    "            replace_list.append(2)\n",
    "        elif int(i)<=1000:\n",
    "            replace_list.append(3)\n",
    "        elif int(i)>1000:\n",
    "            replace_list.append(4)\n",
    "        else:\n",
    "            replace_list.append(2)\n",
    "#             если же i содержит непонятный набор знаков (м.б. буквы остались, например), то заменим значение на 2\n",
    "    except Exception:\n",
    "        replace_list.append(2)\n",
    "X_train['curr_size_of_product'] = replace_list\n",
    "\n",
    "# X_train['item_measure'].value_counts()"
   ]
  },
  {
   "cell_type": "markdown",
   "metadata": {},
   "source": [
    "##### Проверка заполненности информации о возрасте пользователей"
   ]
  },
  {
   "cell_type": "code",
   "execution_count": 29,
   "metadata": {},
   "outputs": [
    {
     "data": {
      "text/plain": [
       "45-54    79561\n",
       "35-44    53256\n",
       "25-34    39378\n",
       "65+      18828\n",
       "55-64    15871\n",
       "19-24    12278\n",
       "Name: age_desc, dtype: int64"
      ]
     },
     "execution_count": 29,
     "metadata": {},
     "output_type": "execute_result"
    }
   ],
   "source": [
    "X_train['age_desc'].value_counts()"
   ]
  },
  {
   "cell_type": "code",
   "execution_count": 30,
   "metadata": {},
   "outputs": [],
   "source": [
    "# упорядоченными номерами \"разметим\" возрастные группы пользователей\n",
    "X_train.loc[X_train['age_desc']=='19-24','age_desc'] = 1\n",
    "X_train.loc[X_train['age_desc']=='25-34','age_desc'] = 2\n",
    "X_train.loc[X_train['age_desc']=='35-44','age_desc'] = 3\n",
    "X_train.loc[X_train['age_desc']=='45-54','age_desc'] = 4\n",
    "X_train.loc[X_train['age_desc']=='55-64','age_desc'] = 5\n",
    "X_train.loc[X_train['age_desc']=='65+','age_desc'] = 6\n",
    "# в незаполненные ячейки подставим значение, соответствующее (по личному опыту) среднему возрасту активных онлайн-покупателей\n",
    "X_train['age_desc'].fillna(3,inplace=True)\n",
    "# наиболее частыми значениями восстановим пропущенные данные в других столбцах\n",
    "X_train['department'].fillna(X_train['department'].mode()[0],inplace=True)\n",
    "X_train['brand'].fillna(X_train['brand'].mode()[0],inplace=True)\n",
    "X_train['commodity_desc'].fillna(X_train['commodity_desc'].mode()[0],inplace=True)\n",
    "X_train['sub_commodity_desc'].fillna(X_train['sub_commodity_desc'].mode()[0],inplace=True)\n",
    "# категории детских товаров\n",
    "X_train['kid_category_desc'] = X_train['kid_category_desc'].astype('str')\n",
    "X_train.loc[X_train['kid_category_desc']=='0','kid_category_desc'] = 1\n",
    "X_train.loc[X_train['kid_category_desc']=='1','kid_category_desc'] = 2\n",
    "X_train.loc[X_train['kid_category_desc']=='2','kid_category_desc'] = 3\n",
    "X_train.loc[X_train['kid_category_desc']=='3+','kid_category_desc'] = 4\n",
    "X_train.loc[X_train['kid_category_desc']=='None/Unknown','kid_category_desc'] = 0\n"
   ]
  },
  {
   "cell_type": "code",
   "execution_count": 31,
   "metadata": {},
   "outputs": [
    {
     "data": {
      "text/plain": [
       "0    343555\n",
       "U     93968\n",
       "A     93139\n",
       "B     32065\n",
       "Name: marital_status_code, dtype: int64"
      ]
     },
     "execution_count": 31,
     "metadata": {},
     "output_type": "execute_result"
    }
   ],
   "source": [
    "# тут все в порядке\n",
    "X_train['marital_status_code'].value_counts()"
   ]
  },
  {
   "cell_type": "code",
   "execution_count": 32,
   "metadata": {},
   "outputs": [
    {
     "name": "stdout",
     "output_type": "stream",
     "text": [
      "<class 'pandas.core.frame.DataFrame'>\n",
      "Int64Index: 562727 entries, 0 to 562726\n",
      "Data columns (total 36 columns):\n",
      " #   Column                Non-Null Count   Dtype   \n",
      "---  ------                --------------   -----   \n",
      " 0   user_id               562727 non-null  int64   \n",
      " 1   item_id               562727 non-null  object  \n",
      " 2   manufacturer          562727 non-null  int64   \n",
      " 3   department            562727 non-null  object  \n",
      " 4   brand                 562727 non-null  object  \n",
      " 5   commodity_desc        562727 non-null  object  \n",
      " 6   sub_commodity_desc    562727 non-null  object  \n",
      " 7   curr_size_of_product  562727 non-null  int64   \n",
      " 8   age_desc              562727 non-null  int64   \n",
      " 9   marital_status_code   562727 non-null  object  \n",
      " 10  income_desc           219172 non-null  object  \n",
      " 11  homeowner_desc        219172 non-null  object  \n",
      " 12  hh_comp_desc          219172 non-null  object  \n",
      " 13  household_size_desc   219172 non-null  object  \n",
      " 14  kid_category_desc     562727 non-null  object  \n",
      " 15  basket_id             56773 non-null   float64 \n",
      " 16  day                   562727 non-null  float64 \n",
      " 17  quantity              562727 non-null  float64 \n",
      " 18  sales_value           562727 non-null  float64 \n",
      " 19  store_id              56773 non-null   float64 \n",
      " 20  retail_disc           562727 non-null  float64 \n",
      " 21  trans_time            562727 non-null  float64 \n",
      " 22  week_no               562727 non-null  float64 \n",
      " 23  coupon_disc           562727 non-null  float64 \n",
      " 24  coupon_match_disc     562727 non-null  float64 \n",
      " 25  price                 562727 non-null  float64 \n",
      " 26  quantity_q            56720 non-null   category\n",
      " 27  week_no_q             562727 non-null  category\n",
      " 28  price_q               562727 non-null  category\n",
      " 29  trans_time_q          562727 non-null  category\n",
      " 30  price_disc            56722 non-null   float64 \n",
      " 31  quantity_ML_mean      562727 non-null  float64 \n",
      " 32  sum_q_dep             562727 non-null  float64 \n",
      " 33  mean_sales_value      562727 non-null  float64 \n",
      " 34  retail_disc_q         562725 non-null  category\n",
      " 35  item_measure          562727 non-null  object  \n",
      "dtypes: category(5), float64(15), int64(4), object(12)\n",
      "memory usage: 140.1+ MB\n"
     ]
    }
   ],
   "source": [
    "# проверим, что данные у нас введены \"правильно\"; например, попробуем присвоить тип int  всему столбцу; если есть ошибка (если там есть буква, например) - это не получится сделать.\n",
    "X_train['curr_size_of_product'] = X_train['curr_size_of_product'].astype(int)\n",
    "X_train['age_desc'] = X_train['age_desc'].astype(int)\n",
    "X_train.info()"
   ]
  },
  {
   "cell_type": "code",
   "execution_count": 33,
   "metadata": {},
   "outputs": [
    {
     "data": {
      "text/plain": [
       "50-74K       52623\n",
       "35-49K       46244\n",
       "75-99K       26334\n",
       "25-34K       20723\n",
       "15-24K       19483\n",
       "Under 15K    15438\n",
       "125-149K     10963\n",
       "100-124K      9414\n",
       "150-174K      9232\n",
       "250K+         4043\n",
       "175-199K      3366\n",
       "200-249K      1309\n",
       "Name: income_desc, dtype: int64"
      ]
     },
     "execution_count": 33,
     "metadata": {},
     "output_type": "execute_result"
    }
   ],
   "source": [
    "# посмотрим на столбец с информацией об уровне доходов\n",
    "X_train['income_desc'].value_counts()"
   ]
  },
  {
   "cell_type": "code",
   "execution_count": 34,
   "metadata": {},
   "outputs": [],
   "source": [
    "# заменим такие неудобные данные на слова (очень низкий - низкий - средний - высокий), заодно объединив их в более крупные группы\n",
    "X_train.loc[:,'income_desc'] = X_train.loc[:,'income_desc'].astype('str')\n",
    "X_train.loc[X_train['income_desc'].isin(['Under 15K','15-24K']),'income_desc']=1\n",
    "X_train.loc[X_train['income_desc'].isin(['25-34K','35-49K','50-74K']),'income_desc']=2\n",
    "X_train.loc[X_train['income_desc'].isin(['75-99K','100-124K','125-149K','150-174K','175-199K']),'income_desc']=3\n",
    "X_train.loc[X_train['income_desc'].isin(['200-249K','250K']),'income_desc']=4\n",
    "X_train.loc[X_train['income_desc']=='nan','income_desc'] = 2\n",
    "X_train.loc[X_train['income_desc']=='250K+','income_desc'] = 5"
   ]
  },
  {
   "cell_type": "code",
   "execution_count": 35,
   "metadata": {},
   "outputs": [],
   "source": [
    "# заменим пропущенные данные на 0\n",
    "X_train['quantity'].fillna(0,inplace=True)\n",
    "# сгенерируем некоторые дополнительные параметры; изначально их эффект не был известен, но в процессе работы они помогли выявить некоторые закономерности;\n",
    "# в конечной модели они не участвовали\n",
    "X_train['sale_income'] = X_train['income_desc'].astype('int') * X_train['sales_value'].astype('int')\n",
    "X_train['sales_quantity'] = X_train['quantity'] * X_train['sales_value']\n",
    "X_train['sales_quantity_income'] = X_train['sales_quantity'].astype('int') * X_train['income_desc'].astype('int')\n",
    "X_train['sale_income'].fillna(0,inplace=True)\n",
    "X_train['sales_quantity_income'].fillna(0,inplace=True)\n",
    "X_train['sale_income'] = X_train['sale_income'].fillna(0).astype('int')\n",
    "X_train['sales_quantity_income'] = X_train['sales_quantity_income'].fillna(0).astype('int')\n",
    "X_train.quantity_ML_mean = X_train.quantity_ML_mean.astype('int')\n",
    "\n",
    "####################################################################################\n",
    "#######переходим к формированию интересующих списков параметров#####################\n",
    "# сохраним в списки те столбцы, которые хотим сохранить в категориальном виде; остальные - оставим как есть\n",
    "cat_feats = ['department','brand','manufacturer','commodity_desc','sub_commodity_desc','curr_size_of_product','age_desc','marital_status_code','income_desc',\n",
    "             'homeowner_desc','hh_comp_desc','household_size_desc','kid_category_desc','item_measure','quantity_q','retail_disc_q']\n",
    "feats = ['price_disc','quantity','sales_value','retail_disc','coupon_disc','coupon_match_disc','sale_income','sales_quantity','sales_quantity_income','day',\n",
    "         'trans_time','week_no','sum_q_dep','mean_sales_value','trans_time_q','price_q','week_no_q','price','quantity_ML_mean']\n",
    "# все столбцы - в одном списке\n",
    "columns = cat_feats + feats\n",
    "# данные cat_feats переведем в тип category\n",
    "X_train[cat_feats] = X_train[cat_feats].astype('category')"
   ]
  },
  {
   "cell_type": "code",
   "execution_count": 36,
   "metadata": {},
   "outputs": [
    {
     "name": "stderr",
     "output_type": "stream",
     "text": [
      "/home/andreyl/Soft/anaconda3/lib/python3.7/site-packages/lightgbm/basic.py:1098: UserWarning: categorical_column in param dict is overridden.\n",
      "  warnings.warn('{} in param dict is overridden.'.format(cat_alias))\n"
     ]
    },
    {
     "name": "stdout",
     "output_type": "stream",
     "text": [
      "[LightGBM] [Warning] boosting is set=gbdt, boosting_type=gbdt will be ignored. Current value: boosting=gbdt\n",
      "[LightGBM] [Warning] bagging_fraction is set=0.15, subsample=1.0 will be ignored. Current value: bagging_fraction=0.15\n",
      "[LightGBM] [Warning] bagging_freq is set=7, subsample_freq=0 will be ignored. Current value: bagging_freq=7\n"
     ]
    }
   ],
   "source": [
    "# стандартизация\n",
    "std_sc = StandardScaler()\n",
    "X_train[feats] = std_sc.fit_transform(X_train[feats])\n",
    "\n",
    "lgb = LGBMClassifier(bagging_freq = 7,pos_bagging_fraction = 0.1, neg_bagging_fraction = 0.1, boosting = 'gbdt', silent=True,reg_lambda = 0.1, random_state = 0,objective='binary', categorical_column=cat_feats,bagging_fraction = 0.15, learning_rate =  0.37, max_depth = 2, n_estimators = 28)\n",
    "# вручную подбираем столбцы для анализа: подбор осуществялся с помощью GridSearchCV и его best_params_\n",
    "# названия параметров, записанные в \"минус\" имели вес = 0; дальнейшее удаление параметров приводило к значимому ухудшению прогноза\n",
    "columns_ = set(columns)-{'sale_income','income_desc','age_desc','price_q','item_measure','retail_disc_q','quantity_ML_mean','curr_size_of_product','household_size_desc','kid_category_desc','manufacturer','price','quantity','retail_disc','sales_value','coupon_disc','coupon_match_disc','sales_quantity_income','sales_quantity','week_no_q','week_no','trans_time','day'}\n",
    "lgb.fit(X_train[columns_], y_train.values.tolist());\n",
    "train_preds = lgb.predict_proba(X_train[columns_])[:,1]\n",
    "# train_preds"
   ]
  },
  {
   "cell_type": "code",
   "execution_count": 37,
   "metadata": {},
   "outputs": [
    {
     "data": {
      "text/html": [
       "<div>\n",
       "<style scoped>\n",
       "    .dataframe tbody tr th:only-of-type {\n",
       "        vertical-align: middle;\n",
       "    }\n",
       "\n",
       "    .dataframe tbody tr th {\n",
       "        vertical-align: top;\n",
       "    }\n",
       "\n",
       "    .dataframe thead th {\n",
       "        text-align: right;\n",
       "    }\n",
       "</style>\n",
       "<table border=\"1\" class=\"dataframe\">\n",
       "  <thead>\n",
       "    <tr style=\"text-align: right;\">\n",
       "      <th></th>\n",
       "      <th>0</th>\n",
       "    </tr>\n",
       "  </thead>\n",
       "  <tbody>\n",
       "    <tr>\n",
       "      <th>brand</th>\n",
       "      <td>10</td>\n",
       "    </tr>\n",
       "    <tr>\n",
       "      <th>marital_status_code</th>\n",
       "      <td>0</td>\n",
       "    </tr>\n",
       "    <tr>\n",
       "      <th>trans_time_q</th>\n",
       "      <td>7</td>\n",
       "    </tr>\n",
       "    <tr>\n",
       "      <th>sum_q_dep</th>\n",
       "      <td>8</td>\n",
       "    </tr>\n",
       "    <tr>\n",
       "      <th>hh_comp_desc</th>\n",
       "      <td>0</td>\n",
       "    </tr>\n",
       "    <tr>\n",
       "      <th>mean_sales_value</th>\n",
       "      <td>0</td>\n",
       "    </tr>\n",
       "    <tr>\n",
       "      <th>quantity_q</th>\n",
       "      <td>24</td>\n",
       "    </tr>\n",
       "    <tr>\n",
       "      <th>price_disc</th>\n",
       "      <td>1</td>\n",
       "    </tr>\n",
       "    <tr>\n",
       "      <th>commodity_desc</th>\n",
       "      <td>0</td>\n",
       "    </tr>\n",
       "    <tr>\n",
       "      <th>sub_commodity_desc</th>\n",
       "      <td>5</td>\n",
       "    </tr>\n",
       "    <tr>\n",
       "      <th>homeowner_desc</th>\n",
       "      <td>0</td>\n",
       "    </tr>\n",
       "    <tr>\n",
       "      <th>department</th>\n",
       "      <td>0</td>\n",
       "    </tr>\n",
       "  </tbody>\n",
       "</table>\n",
       "</div>"
      ],
      "text/plain": [
       "                      0\n",
       "brand                10\n",
       "marital_status_code   0\n",
       "trans_time_q          7\n",
       "sum_q_dep             8\n",
       "hh_comp_desc          0\n",
       "mean_sales_value      0\n",
       "quantity_q           24\n",
       "price_disc            1\n",
       "commodity_desc        0\n",
       "sub_commodity_desc    5\n",
       "homeowner_desc        0\n",
       "department            0"
      ]
     },
     "execution_count": 37,
     "metadata": {},
     "output_type": "execute_result"
    }
   ],
   "source": [
    "pd.DataFrame(lgb.feature_importances_,columns_)"
   ]
  },
  {
   "cell_type": "code",
   "execution_count": 38,
   "metadata": {},
   "outputs": [],
   "source": [
    "# в X_train добавим информацию о том, какие товары были реально куплены (ее мы выносили в отдельный массив y_train)\n",
    "# и вероятности, с которыми мы предсказываем, купит ли пользователь этот товар или нет\n",
    "X_train['real'] = y_train\n",
    "X_train['recommendation'] = train_preds\n",
    "# Признак \"recommendation\" содержит предсказание в виде вероятности, что пользователь купит товар\n",
    "# Необходимо скорректировать эту вероятность, с учетом неучтенных в модели факторов:\n",
    "# так, очевидно, что если пользователь покупал что-то в за довольно большую цену, то вероятность, что это ему действительно нужно, должна быть выше\n",
    "## (мы же не платим дорого за то, что нам не нужно!)\n",
    "# в то же время, если время транзакции занимает много времени, то вероятность того,\n",
    "## что пользователю пришлось подумать (и м.б. ему это не так уж нужно????) растет\n",
    "# если же пользователь покупал много такого товара, значит ему его много нужно - вероятность должна бы быть выше\n",
    "## а если он пользуется только купоном, м.б. не стоит ему это предлагать: не купит, пока купона нет\n",
    "# то же самое с параметром \"продажи-доход\" (sale_income): выяснилось экспериментальным путем,\n",
    "## что если множитель продажи*группу дохода растет, то вероятность покупки падает\n",
    "# применено стандартное возведение параметров в квадрат для избавления от отрицательных значений после стандартизации\n",
    "X_train['recommendation'] = (X_train['recommendation']**2) * (X_train['mean_sales_value']**2) * (1/X_train['trans_time_q']**2) * (X_train['quantity']**2) * (1/X_train.coupon_disc**2) * (1/X_train['sale_income']**2)**(1/2)\n",
    "X_train_preds = X_train[['user_id','item_id','real','recommendation']]\n",
    "# для сохранения окончательных результатов и получения оценки precision@k создадим еще один датафрейм results\n",
    "results = pd.DataFrame(columns = ['user_id','item_id','recommendation'])\n",
    "# и сохраним в нем только 100 наиболее вероятно купленных товаров (отсортированы по убыванию вероятности)\n",
    "for i in X_train_preds.user_id.unique():\n",
    "    results = results.append(X_train_preds.loc[X_train_preds['user_id']==i,['user_id','item_id','recommendation']].nlargest(100,'recommendation'), ignore_index=True)\n",
    "# проведем объединение всех 100 рекомендованных для каждого пользователя товаров в один список\n",
    "# после этого в одной строке - один пользователй - 100 рекомендованных для него товаров с наибольшей вероятностью покупки\n",
    "# (отсортированы от максимума к минимуму методом nlargest())\n",
    "results = results.groupby(results.user_id)['item_id'].unique().reset_index()\n",
    "# теперь можно объединить в одном датафрейме 100 наиболее вероятно купленных товаров и реальо купленные товары\n",
    "results['target'] = targets_lvl_2[['user_id','item_id']].groupby(targets_lvl_2.user_id)['item_id'].unique().reset_index()['item_id']\n",
    "# results.head()"
   ]
  },
  {
   "cell_type": "markdown",
   "metadata": {},
   "source": [
    "### Все готово для того, чтобы проверить релевантность наших рекомендаций"
   ]
  },
  {
   "cell_type": "markdown",
   "metadata": {},
   "source": [
    "##### Проверка на тренировочной выборке"
   ]
  },
  {
   "cell_type": "code",
   "execution_count": 39,
   "metadata": {},
   "outputs": [
    {
     "name": "stdout",
     "output_type": "stream",
     "text": [
      "recall@5 = 2.08%\n",
      "precision@5 = 99.88%\n",
      "CPU times: user 4.51 s, sys: 1.67 ms, total: 4.51 s\n",
      "Wall time: 4.52 s\n"
     ]
    }
   ],
   "source": [
    "%%time\n",
    "recall = recall_at_k(results['item_id'],results['target'], k = 5)\n",
    "print(f'recall@5 = {round(recall,2)}%')\n",
    "\n",
    "precision = precision_at_k(results['item_id'],results['target'], k = 5)\n",
    "print(f'precision@5 = {round(precision,2)}%')"
   ]
  },
  {
   "cell_type": "markdown",
   "metadata": {},
   "source": [
    "### Проверка на тестовой выборке"
   ]
  },
  {
   "cell_type": "code",
   "execution_count": 40,
   "metadata": {},
   "outputs": [
    {
     "name": "stdout",
     "output_type": "stream",
     "text": [
      "precision@5 = 26.67%\n"
     ]
    }
   ],
   "source": [
    "check_df = pd.DataFrame(data_val_lvl_2[['user_id','item_id']].groupby(data_val_lvl_2.user_id)['item_id'].unique()).reset_index()[['user_id','item_id']]\n",
    "check_df.columns = ['user_id','check']\n",
    "results_df = results.merge(check_df,on='user_id',how='right')\n",
    "results_df.loc[results_df.item_id.isna(),'item_id'] = results_df.loc[results_df.item_id.isna(),'item_id'].apply(lambda x: [0])\n",
    "precision = precision_at_k(results_df['item_id'],results_df['check'], k = 5)\n",
    "print(f'precision@5 = {round(precision,2)}%')"
   ]
  },
  {
   "cell_type": "code",
   "execution_count": 41,
   "metadata": {},
   "outputs": [
    {
     "data": {
      "application/vnd.jupyter.widget-view+json": {
       "model_id": "5affdcea8bdf4c79a669a39451f2aa48",
       "version_major": 2,
       "version_minor": 0
      },
      "text/plain": [
       "  0%|          | 0/15 [00:00<?, ?it/s]"
      ]
     },
     "metadata": {},
     "output_type": "display_data"
    },
    {
     "data": {
      "application/vnd.jupyter.widget-view+json": {
       "model_id": "0ec5538afa654035af6e393fef55a0f7",
       "version_major": 2,
       "version_minor": 0
      },
      "text/plain": [
       "  0%|          | 0/6800 [00:00<?, ?it/s]"
      ]
     },
     "metadata": {},
     "output_type": "display_data"
    },
    {
     "name": "stdout",
     "output_type": "stream",
     "text": [
      "precision@5 = 27.002938295788326%\n"
     ]
    }
   ],
   "source": [
    "users = data_val_lvl_2.user_id.unique()\n",
    "data_val_test = data_val_lvl_1.copy()\n",
    "data_val_test = data_val_test.merge(targets_lvl_2, on = ['user_id','item_id'], how = 'outer')\n",
    "\n",
    "data_val_test['day'] = data_val_test[['day_x','day_y']].min(axis=1)\n",
    "data_val_test['quantity'] = data_val_test[['quantity_x','quantity_y']].min(axis=1)\n",
    "data_val_test['sales_value'] = data_val_test[['sales_value_x','sales_value_y']].min(axis=1)\n",
    "data_val_test['store_id'] = data_val_test[['store_id_x','store_id_x']].min(axis=1)\n",
    "data_val_test['retail_disc'] = data_val_test[['retail_disc_x','retail_disc_y']].min(axis=1)\n",
    "data_val_test['trans_time'] = data_val_test[['trans_time_x','trans_time_y']].min(axis=1)\n",
    "data_val_test['week_no'] = data_val_test[['week_no_x','week_no_y']].min(axis=1)\n",
    "data_val_test['coupon_disc'] = data_val_test[['coupon_disc_x','coupon_disc_y']].min(axis=1)\n",
    "data_val_test['coupon_match_disc'] = data_val_test[['coupon_match_disc_x','coupon_match_disc_y']].min(axis=1)\n",
    "data_val_test.drop(['quantity_x','quantity_y','sales_value_x','sales_value_y','store_id_x','store_id_y','retail_disc_x','retail_disc_y','trans_time_x',\n",
    "                   'trans_time_y','week_no_x','week_no_y','coupon_disc_x','coupon_disc_y','coupon_match_disc_x','coupon_match_disc_y','day_x','day_y'],axis=1,inplace=True)\n",
    "\n",
    "a = data_val_test.groupby('marital_status_code')['trans_time'].mean()\n",
    "for k,i in enumerate(a):\n",
    "    data_val_test.loc[(data_val_test['trans_time'].isna()) & (data_val_test['marital_status_code']==a.index[k]),'trans_time'] = i\n",
    "\n",
    "a = data_val_test.groupby('marital_status_code')['price'].mean()\n",
    "for k,i in enumerate(a):\n",
    "    data_val_test.loc[(data_val_test['price'].isna()) & (data_val_test['marital_status_code']==a.index[k]),'price'] = i\n",
    "\n",
    "a = data_val_test.groupby('household_size_desc')['price'].mean()\n",
    "for k,i in enumerate(a):\n",
    "    data_val_test.loc[(data_val_test['price'].isna()) & (data_val_test['household_size_desc']==a.index[k]),'price'] = i\n",
    "\n",
    "a = data_val_test.groupby('household_size_desc')['coupon_match_disc'].mean()\n",
    "for k,i in enumerate(a):\n",
    "    data_val_test.loc[(data_val_test['coupon_match_disc'].isna()) & (data_val_test['household_size_desc']==a.index[k]),'coupon_match_disc'] = i\n",
    "    \n",
    "a = data_val_test.groupby(['marital_status_code','kid_category_desc'],as_index=False)['quantity'].mean()\n",
    "data_val_test['quantity_ML_mean']=0\n",
    "for k,i in enumerate(a):\n",
    "    data_val_test.loc[(data_val_test['marital_status_code']==a.marital_status_code[k]) & (data_val_test['kid_category_desc']==a.kid_category_desc[k]),'quantity_ML_mean'] = a.quantity[k]\n",
    "\n",
    "data_val_test['day'].fillna(targets_lvl_2['day'].mean(),inplace=True)\n",
    "data_val_test['quantity'].fillna(1,inplace=True)\n",
    "data_val_test['retail_disc'].fillna(0,inplace=True)\n",
    "data_val_test['sales_value'].fillna(0,inplace=True)\n",
    "data_val_test['coupon_disc'].fillna(0,inplace=True)\n",
    "data_val_test['coupon_match_disc'].fillna(0,inplace=True)\n",
    "data_val_test['marital_status_code'].fillna('U',inplace=True)\n",
    "data_val_test['kid_category_desc'].fillna('None/Unknown',inplace=True)\n",
    "data_val_test['trans_time'].fillna(data_val_test['trans_time'].mean(),inplace=True)\n",
    "data_val_test['week_no_q'].fillna(1,inplace=True)\n",
    "data_val_test['price_q'].fillna(1,inplace=True)\n",
    "data_val_test['trans_time_q'].fillna(1,inplace=True)\n",
    "# data_val_test['week_no'].fillna(0,inplace=True) - в данном случае не нужный параметр\n",
    "\n",
    "# как и в самом начале, применим фильтр для выбора 5000 самых популярных товаров, которые еще есть смысл рекомендовать\n",
    "data_val_test = prefilter_items(data_val_test, item_features=item_features, take_n_popular=5000)\n",
    "a = data_val_test['sales_value'] / data_val_test['quantity']\n",
    "data_val_test['price'] = a - a*data_val_test['coupon_disc']-a*data_val_test['retail_disc']\n",
    "data_val_test['price'].fillna(0)\n",
    "data_val_test['price'] = data_val_test['price'].replace([np.inf, -np.inf], 0)\n",
    "data_val_test['week_no_q'] = pd.qcut(data_val_test.week_no,q=2,labels=[1,2]).fillna(1)\n",
    "data_val_test['price_q'] = pd.qcut(data_val_test.price,q=2,labels=[1,2]).fillna(1)\n",
    "data_val_test['trans_time_q'] = pd.qcut(data_val_test.trans_time,q=2,labels=[1,2]).fillna(1)\n",
    "data_test = data_val_test.append(data_train_lvl_1)\n",
    "recommender2 = MainRecommender(data_test)\n",
    "\n",
    "# в этой части кода создается датафрейм с данными о купленных товарах по каждому пользователю\n",
    "result_test_sales = data_test.groupby('user_id')['item_id'].unique().reset_index()\n",
    "result_test_sales.columns=['user_id', 'actual']\n",
    "result_test_sales = result_test_sales.explode('actual').merge(result_lvl_1[['user_id','actual']].explode('actual'),how='inner',on='actual')[['actual','user_id_y']]\n",
    "result_test_sales.columns = ['actual','user_id']\n",
    "# применен аналогичный первому этапу подход: большая доля top_popular, остальное - own_recommendations\n",
    "top_N = data_val_test.groupby('item_id').count()['quantity'].reset_index().sort_values('quantity',ascending=False)[1:].head(3)['item_id'].values\n",
    "for user in set(results_df['user_id'].values):\n",
    "    N_k=5\n",
    "    if len(results_df.loc[results_df.user_id==user,'item_id'].values[0])<N_k:\n",
    "        if user in data_test.user_id.values:\n",
    "            x=[]\n",
    "            x.append(top_N)\n",
    "            x.append(recommender2.get_own_recommendations(user,N=N_k))\n",
    "            \n",
    "            x=list(np.hstack(x))\n",
    "            results_df.loc[results_df['user_id']==user,'item_id'] = results_df.loc[results_df['user_id']==user,'item_id'].apply(lambda y: x)\n",
    "precision = precision_at_k(results_df['item_id'],results_df['check'], k = 5)\n",
    "print(f'precision@5 = {precision}%')"
   ]
  },
  {
   "cell_type": "code",
   "execution_count": 44,
   "metadata": {},
   "outputs": [
    {
     "data": {
      "text/html": [
       "<div>\n",
       "<style scoped>\n",
       "    .dataframe tbody tr th:only-of-type {\n",
       "        vertical-align: middle;\n",
       "    }\n",
       "\n",
       "    .dataframe tbody tr th {\n",
       "        vertical-align: top;\n",
       "    }\n",
       "\n",
       "    .dataframe thead th {\n",
       "        text-align: right;\n",
       "    }\n",
       "</style>\n",
       "<table border=\"1\" class=\"dataframe\">\n",
       "  <thead>\n",
       "    <tr style=\"text-align: right;\">\n",
       "      <th></th>\n",
       "      <th>user_id</th>\n",
       "      <th>item_id</th>\n",
       "      <th>target</th>\n",
       "      <th>check</th>\n",
       "    </tr>\n",
       "  </thead>\n",
       "  <tbody>\n",
       "    <tr>\n",
       "      <th>0</th>\n",
       "      <td>1</td>\n",
       "      <td>[1082185, 1082269, 8091601, 9655212, 940947, 8...</td>\n",
       "      <td>[856942, 9297615, 5577022, 877391, 1088462, 96...</td>\n",
       "      <td>[821867, 834484, 856942, 865456, 889248, 90795...</td>\n",
       "    </tr>\n",
       "    <tr>\n",
       "      <th>1</th>\n",
       "      <td>3</td>\n",
       "      <td>[1029743.0, 1075368.0, 1106523.0, 7410071.0, 1...</td>\n",
       "      <td>NaN</td>\n",
       "      <td>[835476, 851057, 872021, 878302, 879948, 90963...</td>\n",
       "    </tr>\n",
       "    <tr>\n",
       "      <th>2</th>\n",
       "      <td>6</td>\n",
       "      <td>[1082185, 897088, 1098844, 12757544, 1024306, ...</td>\n",
       "      <td>[13003092, 13002975, 923600, 875306, 1084036, ...</td>\n",
       "      <td>[920308, 926804, 946489, 1006718, 1017061, 107...</td>\n",
       "    </tr>\n",
       "    <tr>\n",
       "      <th>3</th>\n",
       "      <td>7</td>\n",
       "      <td>[1082185, 1106523, 1126899, 1122358, 909714, 9...</td>\n",
       "      <td>[998519, 894360, 6552318, 832473, 1123106, 714...</td>\n",
       "      <td>[840386, 889774, 898068, 909714, 929067, 95347...</td>\n",
       "    </tr>\n",
       "    <tr>\n",
       "      <th>4</th>\n",
       "      <td>8</td>\n",
       "      <td>[1082185, 1029743, 1044078, 6034857, 1068719, ...</td>\n",
       "      <td>[12808385, 939860, 872826, 956689, 977927, 921...</td>\n",
       "      <td>[835098, 872137, 910439, 924610, 992977, 10412...</td>\n",
       "    </tr>\n",
       "    <tr>\n",
       "      <th>...</th>\n",
       "      <td>...</td>\n",
       "      <td>...</td>\n",
       "      <td>...</td>\n",
       "      <td>...</td>\n",
       "    </tr>\n",
       "    <tr>\n",
       "      <th>2037</th>\n",
       "      <td>2496</td>\n",
       "      <td>[1082185, 995965, 1106523, 916122, 899624, 933...</td>\n",
       "      <td>[872826, 956689, 7442505, 983665, 873160, 9068...</td>\n",
       "      <td>[6534178]</td>\n",
       "    </tr>\n",
       "    <tr>\n",
       "      <th>2038</th>\n",
       "      <td>2497</td>\n",
       "      <td>[1029743, 1070820, 1010950, 824759, 1081177, 1...</td>\n",
       "      <td>[870515, 1102207, 1117219, 869835, 1089618, 91...</td>\n",
       "      <td>[1016709, 9835695, 1132298, 16809501, 845294, ...</td>\n",
       "    </tr>\n",
       "    <tr>\n",
       "      <th>2039</th>\n",
       "      <td>2498</td>\n",
       "      <td>[1070820, 1100379, 1106523, 993638, 1045710, 1...</td>\n",
       "      <td>[1022066, 1012801, 849578, 1076580, 5574108, 9...</td>\n",
       "      <td>[15716530, 834484, 901776, 914190, 958382, 972...</td>\n",
       "    </tr>\n",
       "    <tr>\n",
       "      <th>2040</th>\n",
       "      <td>2499</td>\n",
       "      <td>[1070820, 5568378, 5569327, 1081177, 1060872, ...</td>\n",
       "      <td>[7168055, 1128395, 6904613, 1081533, 847962, 1...</td>\n",
       "      <td>[867188, 877580, 902396, 914190, 951590, 95813...</td>\n",
       "    </tr>\n",
       "    <tr>\n",
       "      <th>2041</th>\n",
       "      <td>2500</td>\n",
       "      <td>[1082185, 1013389, 1065538, 965766, 1056509, 9...</td>\n",
       "      <td>[1063739, 12262832, 939681, 960718, 919126, 10...</td>\n",
       "      <td>[852182, 856345, 923746, 948670, 1018007, 1044...</td>\n",
       "    </tr>\n",
       "  </tbody>\n",
       "</table>\n",
       "<p>2042 rows × 4 columns</p>\n",
       "</div>"
      ],
      "text/plain": [
       "      user_id                                            item_id  \\\n",
       "0           1  [1082185, 1082269, 8091601, 9655212, 940947, 8...   \n",
       "1           3  [1029743.0, 1075368.0, 1106523.0, 7410071.0, 1...   \n",
       "2           6  [1082185, 897088, 1098844, 12757544, 1024306, ...   \n",
       "3           7  [1082185, 1106523, 1126899, 1122358, 909714, 9...   \n",
       "4           8  [1082185, 1029743, 1044078, 6034857, 1068719, ...   \n",
       "...       ...                                                ...   \n",
       "2037     2496  [1082185, 995965, 1106523, 916122, 899624, 933...   \n",
       "2038     2497  [1029743, 1070820, 1010950, 824759, 1081177, 1...   \n",
       "2039     2498  [1070820, 1100379, 1106523, 993638, 1045710, 1...   \n",
       "2040     2499  [1070820, 5568378, 5569327, 1081177, 1060872, ...   \n",
       "2041     2500  [1082185, 1013389, 1065538, 965766, 1056509, 9...   \n",
       "\n",
       "                                                 target  \\\n",
       "0     [856942, 9297615, 5577022, 877391, 1088462, 96...   \n",
       "1                                                   NaN   \n",
       "2     [13003092, 13002975, 923600, 875306, 1084036, ...   \n",
       "3     [998519, 894360, 6552318, 832473, 1123106, 714...   \n",
       "4     [12808385, 939860, 872826, 956689, 977927, 921...   \n",
       "...                                                 ...   \n",
       "2037  [872826, 956689, 7442505, 983665, 873160, 9068...   \n",
       "2038  [870515, 1102207, 1117219, 869835, 1089618, 91...   \n",
       "2039  [1022066, 1012801, 849578, 1076580, 5574108, 9...   \n",
       "2040  [7168055, 1128395, 6904613, 1081533, 847962, 1...   \n",
       "2041  [1063739, 12262832, 939681, 960718, 919126, 10...   \n",
       "\n",
       "                                                  check  \n",
       "0     [821867, 834484, 856942, 865456, 889248, 90795...  \n",
       "1     [835476, 851057, 872021, 878302, 879948, 90963...  \n",
       "2     [920308, 926804, 946489, 1006718, 1017061, 107...  \n",
       "3     [840386, 889774, 898068, 909714, 929067, 95347...  \n",
       "4     [835098, 872137, 910439, 924610, 992977, 10412...  \n",
       "...                                                 ...  \n",
       "2037                                          [6534178]  \n",
       "2038  [1016709, 9835695, 1132298, 16809501, 845294, ...  \n",
       "2039  [15716530, 834484, 901776, 914190, 958382, 972...  \n",
       "2040  [867188, 877580, 902396, 914190, 951590, 95813...  \n",
       "2041  [852182, 856345, 923746, 948670, 1018007, 1044...  \n",
       "\n",
       "[2042 rows x 4 columns]"
      ]
     },
     "execution_count": 44,
     "metadata": {},
     "output_type": "execute_result"
    }
   ],
   "source": [
    "# формат предоставления отчета в задани не задан, поэтому сохраним все 3 поля:\n",
    "# рекомендации, target для тренировочной групп, check - данные тестовой группы.\n",
    "# precision рекомендаций подсчитан выше\n",
    "results_df.to_csv('results_df.csv')\n",
    "results_df"
   ]
  },
  {
   "cell_type": "markdown",
   "metadata": {},
   "source": [
    "### Финальный проект\n",
    "\n",
    "Мы уже прошли всю необходимуб теорию для финального проекта. Проект осуществляется на данных из вебинара (данные считаны в начале ДЗ).\n",
    "Рекомендуем вам **начать делать проект сразу после этого домашнего задания**\n",
    "- Целевая метрика - precision@5. Порог для уcпешной сдачи проекта precision@5 > 0.27%\n",
    "- Будет public тестовый датасет, на котором вы сможете измерять метрику\n",
    "- Также будет private тестовый датасет для измерения финального качества\n",
    "- НЕ обязательно, но крайне желательно использовать 2-ух уровневые рекоммендательные системы в проекте\n",
    "- Вы сдаете код проекта в виде github репозитория и csv файл с рекомендациями "
   ]
  }
 ],
 "metadata": {
  "kernelspec": {
   "display_name": "Python 3",
   "language": "python",
   "name": "python3"
  },
  "language_info": {
   "codemirror_mode": {
    "name": "ipython",
    "version": 3
   },
   "file_extension": ".py",
   "mimetype": "text/x-python",
   "name": "python",
   "nbconvert_exporter": "python",
   "pygments_lexer": "ipython3",
   "version": "3.7.9"
  }
 },
 "nbformat": 4,
 "nbformat_minor": 4
}
